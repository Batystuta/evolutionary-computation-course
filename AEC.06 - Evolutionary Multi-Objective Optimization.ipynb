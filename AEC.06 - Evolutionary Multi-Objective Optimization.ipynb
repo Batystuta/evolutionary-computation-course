{
 "metadata": {
  "celltoolbar": "Slideshow",
  "name": "",
  "signature": "sha256:776c48db854743d08c835d66fd3592db8285d31386b7637d1d583d4063ebfb2c"
 },
 "nbformat": 3,
 "nbformat_minor": 0,
 "worksheets": [
  {
   "cells": [
    {
     "cell_type": "markdown",
     "metadata": {
      "internals": {
       "slide_type": "subslide"
      },
      "slideshow": {
       "slide_type": "slide"
      }
     },
     "source": [
      "<img src='http://www.puc-rio.br/sobrepuc/admin/vrd/brasao/download/ass_vertpb_reduz4.jpg' align='left'/>"
     ]
    },
    {
     "cell_type": "markdown",
     "metadata": {
      "internals": {
       "slide_helper": "subslide_end"
      },
      "slide_helper": "subslide_end",
      "slideshow": {
       "slide_type": "-"
      }
     },
     "source": [
      "## Demonstration Class 06\n",
      "# Evolutionary Multi-Objective Optimization\n",
      "\n",
      "### Luis Mart\u00ed, LIRA/[DEE](http://www.ele.puc-rio.br)/[PUC-Rio](http://www.puc-rio.br)\n",
      "\n",
      "[http://lmarti.com](http://lmarti.com); [lmarti@ele.puc-rio.br](mailto:lmarti@ele.puc-rio.br) \n",
      "\n",
      "[Advanced Evolutionary Computation: Theory and Practice](http://lmarti.com/aec-2014) "
     ]
    },
    {
     "cell_type": "markdown",
     "metadata": {
      "internals": {
       "slide_helper": "subslide_end",
       "slide_type": "subslide"
      },
      "slide_helper": "slide_end",
      "slideshow": {
       "slide_type": "subslide"
      }
     },
     "source": [
      "This notebook is better viewed rendered as slides. You can convert it to slides and view them by:\n",
      "- using [nbconvert](http://ipython.org/ipython-doc/1/interactive/nbconvert.html) with a command like:\n",
      "  ```bash\n",
      "  $ ipython nbconvert --to slides --post serve <this-notebook-name.ipynb>\n",
      "  ```\n",
      "- installing [Reveal.js - Jupyter/IPython Slideshow Extension](https://github.com/damianavila/live_reveal)\n",
      "- using the online [IPython notebook slide viewer](https://slideviewer.herokuapp.com/) (some slides of the notebook might not be properly rendered).\n",
      "\n",
      "This and other related IPython notebooks can be found at the course github repository:\n",
      "* [https://github.com/lmarti/evolutionary-computation-course](https://github.com/lmarti/evolutionary-computation-course)"
     ]
    },
    {
     "cell_type": "markdown",
     "metadata": {
      "internals": {
       "slide_helper": "subslide_end",
       "slide_type": "subslide"
      },
      "slide_helper": "slide_end",
      "slideshow": {
       "slide_type": "slide"
      }
     },
     "source": [
      "# In this notebook\n",
      "\n",
      "* Present the basic concepts related to evolutionary multi-objective optimization algorithms.\n",
      "* The Non-dominated Sorting Genetic Algorithm II (NSGA-II).\n",
      "* Benchmark test problems.\n",
      "* Experiment design and results comparison."
     ]
    },
    {
     "cell_type": "markdown",
     "metadata": {
      "internals": {
       "slide_helper": "subslide_end",
       "slide_type": "subslide"
      },
      "slide_helper": "slide_end",
      "slideshow": {
       "slide_type": "slide"
      }
     },
     "source": [
      "# How can we handle multiple conflicting objectives?\n",
      "\n",
      "Even choosing a fruit implies dealing with conflicting objectives.\n",
      "\n",
      "<div align='center'><img src='http://imgs.xkcd.com/comics/fuck_grapefruit.png' width='56%' align='center'/>\n",
      "taken from http://xkcd.com/388/</div>"
     ]
    },
    {
     "cell_type": "markdown",
     "metadata": {
      "internals": {
       "slide_helper": "subslide_end",
       "slide_type": "subslide"
      },
      "slide_helper": "slide_end",
      "slideshow": {
       "slide_type": "slide"
      }
     },
     "source": [
      "# [Multi-Objective optimization](http://en.wikipedia.org/wiki/Multi-objective_optimization)\n",
      "\n",
      "* Most -*if not all*- optimization problems involve more than one objective function to be optimized simultaneously.\n",
      "* For example, you must optimize a given feature of an object while keeping under control the resources needed to elaborate that object.\n",
      "* Sometimes those other objectives are converted to constraints or fixed to default values, but that does not means that they are there.\n",
      "* Multi-objective optimization is also known as *multi-objective programming*, *vector optimization*, *multicriteria optimization*, *multiattribute optimization* or *Pareto optimization* (and probably by other names, depending on the field).\n",
      "* Multi-objective optimization has been applied in [many fields of science](http://en.wikipedia.org/wiki/Multi-objective_optimization#Examples_of_multi-objective_optimization_applications), including engineering, economics and logistics (see the section on applications for detailed examples) where optimal decisions need to be taken in the presence of trade-offs between two or more conflicting objectives."
     ]
    },
    {
     "cell_type": "markdown",
     "metadata": {
      "internals": {
       "slide_helper": "subslide_end",
       "slide_type": "subslide"
      },
      "slide_helper": "slide_end",
      "slideshow": {
       "slide_type": "slide"
      }
     },
     "source": [
      "## Formalization of a Multi-Objective Optimization Problem (MOP)\n",
      "$$\n",
      "\\renewcommand{\\vec}[1]{\\mathbf{#1}}\n",
      "\\renewcommand{\\set}[1]{\\mathcal{#1}}\n",
      "\\renewcommand{\\dom}{\\preccurlyeq}\n",
      "\\left.\n",
      "\\begin{array}{rl}\n",
      "\\mathrm{minimize}             & \\vec{F}(\\vec{x})=\\langle f_1(\\vec{x}),\\ldots,f_M(\\vec{x})\\rangle\\,,\\\\ \n",
      "\\mathrm{subject}\\ \\mathrm{to} & c_1(\\vec{x}),\\ldots,c_C(\\vec{x})\\le 0\\,,\\\\\n",
      "\t\t\t\t\t\t\t  & d_1(\\vec{x}),\\ldots,d_D(\\vec{x})= 0\\,,\\\\\n",
      "& \\text{with}\\ \\vec{x}\\in\\set{D}\\,,\n",
      "\\end{array}\\right\\}\n",
      "$$\n",
      "* $\\mathcal{D}$ is known as the *decision set* or *search set*.\n",
      "* functions $f_1(\\mathbf{x}),\\ldots,f_M(\\mathbf{x})$ are the *objective functions*. If $M=1$ the problem reduces to a single-objective optimization problem. \n",
      "* Image set, $\\set{O}$, result of the projection of $\\set{D}$ via $f_1(\\vec{x}),\\ldots,f_M(\\vec{x})$ is called *objective set* ($\\vec{F}:\\set{D}\\rightarrow\\set{O}$).\n",
      "* $c_1(\\vec{x}),\\ldots,c_C(\\vec{x})\\le 0$ and $d_1(\\vec{x}),\\ldots,d_D(\\vec{x})= 0$  express the constraints imposed on the values of $\\vec{x}$.\n",
      "* **Note:** In case you are -still- wondering, a maximization problem can be posed as the minimization one: $\\min\\ -\\vec{F}(\\vec{x})$."
     ]
    },
    {
     "cell_type": "markdown",
     "metadata": {
      "internals": {
       "slide_helper": "subslide_end",
       "slide_type": "subslide"
      },
      "slide_helper": "slide_end",
      "slideshow": {
       "slide_type": "slide"
      }
     },
     "source": [
      "## Example: A two variables and two objectives MOP\n",
      "<img src='static/mop-2d.jpg' height='56%' align='center'/>"
     ]
    },
    {
     "cell_type": "markdown",
     "metadata": {
      "internals": {
       "slide_helper": "subslide_end",
       "slide_type": "subslide"
      },
      "slide_helper": "slide_end",
      "slideshow": {
       "slide_type": "slide"
      }
     },
     "source": [
      "## MOP (optimal) solutions\n",
      "\n",
      "Usually, does not exists a unique solution that minimizes all objective functions simultaneously, but, instead, a set of equally good trade-off solutions.\n",
      "\n",
      "* *Optimality* can be defined in terms of the *Pareto dominance* relationship. That is, having $\\vec{x},\\vec{y}\\in\\set{D}$,\n",
      "$\\vec{x}$ is said to dominate $\\vec{y}$ (expressed as $\\vec{x}\\dom\\vec{y}$) iff $\\forall f_j$,\n",
      "$f_j(\\vec{x})\\leq f_j(\\vec{y})$ and $\\exists f_i$ such that $f_i(\\vec{x})< f_i(\\vec{y})$.\n",
      "* Having the set $\\set{A}$. $\\set{A}^\\ast$, the *non-dominated subset* of $\\set{A}$, is\n",
      "defined as\n",
      "$$\n",
      "\\set{A}^\\ast=\\left\\{ \\vec{x}\\in\\set{A} \\left|\\not\\exists\\vec{y}\\in\\set{A}:\\vec{y}\\dom\\vec{x}\\right.\\right\\}.\n",
      "$$\n",
      "* The *Pareto-optimal set*, $\\set{D}^{\\ast}$, is the solution of the problem. It is the subset of non-dominated\n",
      "elements of $\\set{D}$. It is also known as the *efficient set*.\n",
      "*  It consists of solutions that cannot be improved in any of the objectives without degrading at least one of the other objectives.\n",
      "* Its image in objective set is called the *Pareto-optimal front*, $\\set{O}^\\ast$.\n",
      "* Evolutionary algorithms generally yield a set of non-dominated solutions, $\\set{P}^\\ast$, that approximates $\\set{D}^{\\ast}$.\n"
     ]
    },
    {
     "cell_type": "markdown",
     "metadata": {
      "internals": {
       "slide_type": "subslide"
      },
      "slideshow": {
       "slide_type": "slide"
      }
     },
     "source": [
      "As usual, we need some initialization and configuration."
     ]
    },
    {
     "cell_type": "code",
     "collapsed": false,
     "input": [
      "import time, array, random, copy, math\n",
      "\n",
      "import numpy as np\n",
      "import pandas as pd\n",
      "\n",
      "import matplotlib.pyplot as plt\n",
      "%matplotlib inline\n",
      "\n",
      "import seaborn\n",
      "seaborn.set(style=\"whitegrid\")\n",
      "\n",
      "from deap import algorithms, base, benchmarks, tools, creator"
     ],
     "language": "python",
     "metadata": {
      "internals": {},
      "slideshow": {
       "slide_type": "-"
      }
     },
     "outputs": [],
     "prompt_number": 1
    },
    {
     "cell_type": "markdown",
     "metadata": {
      "internals": {
       "frag_number": 11,
       "slide_helper": "subslide_end"
      },
      "slide_helper": "subslide_end",
      "slideshow": {
       "slide_type": "fragment"
      }
     },
     "source": [
      "<div class=\"alert alert-info\" role=\"alert\">\n",
      "<span class=\"sr-only\"><b>Important Notice:</b></span>\n",
      "  For this notebook I am using the development version of DEAP. If you want to try it on your own you might have to install DEAP manually from https://github.com/DEAP/deap. \n",
      "</div>"
     ]
    },
    {
     "cell_type": "markdown",
     "metadata": {
      "internals": {
       "frag_helper": "fragment_end",
       "frag_number": 11,
       "slide_type": "subslide"
      },
      "slideshow": {
       "slide_type": "subslide"
      }
     },
     "source": [
      "Planting a constant seed to always have the same results (and avoid surprises in class). -*you should not do this in a real-world case!*"
     ]
    },
    {
     "cell_type": "code",
     "collapsed": false,
     "input": [
      "random.seed(a=42)"
     ],
     "language": "python",
     "metadata": {
      "internals": {
       "frag_helper": "fragment_end",
       "frag_number": 11,
       "slide_helper": "subslide_end"
      },
      "slide_helper": "slide_end",
      "slideshow": {
       "slide_type": "-"
      }
     },
     "outputs": [],
     "prompt_number": 2
    },
    {
     "cell_type": "markdown",
     "metadata": {
      "internals": {
       "frag_helper": "fragment_end",
       "frag_number": 11,
       "slide_type": "subslide"
      },
      "slideshow": {
       "slide_type": "slide"
      }
     },
     "source": [
      "# Visualizing the Pareto dominance relationship\n",
      "\n",
      "* To start, lets have a visual example of the Pareto dominance relationship in action.\n",
      "* In this notebook we will deal with two-objective problems in order to simplify visualization. \n",
      "* Therefore, we can create:"
     ]
    },
    {
     "cell_type": "code",
     "collapsed": false,
     "input": [
      "creator.create(\"FitnessMin\", base.Fitness, weights=(-1.0,-1.0))\n",
      "creator.create(\"Individual\", array.array, typecode='d', \n",
      "               fitness=creator.FitnessMin)"
     ],
     "language": "python",
     "metadata": {
      "internals": {
       "frag_helper": "fragment_end",
       "frag_number": 11,
       "slide_helper": "subslide_end"
      },
      "slide_helper": "slide_end",
      "slideshow": {
       "slide_type": "-"
      }
     },
     "outputs": [],
     "prompt_number": 3
    },
    {
     "cell_type": "markdown",
     "metadata": {
      "internals": {
       "frag_helper": "fragment_end",
       "frag_number": 11,
       "slide_helper": "subslide_end",
       "slide_type": "subslide"
      },
      "slide_helper": "slide_end",
      "slideshow": {
       "slide_type": "slide"
      }
     },
     "source": [
      "## DTLZ2: One -of many- MOP benchmarks\n",
      "* We will use a common benchmark problem known as [DTLZ2](http://www.tik.ee.ethz.ch/sop/download/supplementary/testproblems/dtlz2/).\n",
      "* DTLZ problems can be configured to have as many objectives as desired, but as we want to visualize results we will stick to two objectives.\n",
      "* The Pareto-optimal front of DTLZ2 lies in the first [orthant](http://en.wikipedia.org/wiki/Orthant) of a unit (radius 1) hypersphere located at the coordinate origin ($\\vec{0}$).\n",
      "\n",
      "<div align='center'><img src='http://www.cs.cinvestav.mx/~emoobook/apendix-e/galeria4/dtlz2b.jpg' width=\"38%\" align='center'/>\n",
      "from Coello Coello, Lamont and Van Veldhuizen (2007) Evolutionary Algorithms for Solving Multi-Objective Problems, Second Edition. Springer [Appendix E](http://www.cs.cinvestav.mx/~emoobook/apendix-e/apendix-e.html).</div>"
     ]
    },
    {
     "cell_type": "markdown",
     "metadata": {
      "internals": {
       "frag_helper": "fragment_end",
       "frag_number": 11,
       "slide_type": "subslide"
      },
      "slideshow": {
       "slide_type": "slide"
      }
     },
     "source": [
      "Preparing a DEAP `toolbox` with DTLZ2."
     ]
    },
    {
     "cell_type": "code",
     "collapsed": false,
     "input": [
      "toolbox = base.Toolbox()"
     ],
     "language": "python",
     "metadata": {
      "internals": {
       "frag_helper": "fragment_end",
       "frag_number": 11
      },
      "slideshow": {
       "slide_type": "-"
      }
     },
     "outputs": [],
     "prompt_number": 4
    },
    {
     "cell_type": "code",
     "collapsed": false,
     "input": [
      "BOUND_LOW, BOUND_UP = 0.0, 1.0\n",
      "NDIM = 30\n",
      "toolbox.register(\"evaluate\", lambda ind: benchmarks.dtlz2(ind, 2))"
     ],
     "language": "python",
     "metadata": {
      "internals": {
       "frag_helper": "fragment_end",
       "frag_number": 11,
       "slide_helper": "subslide_end"
      },
      "slide_helper": "slide_end",
      "slideshow": {
       "slide_type": "-"
      }
     },
     "outputs": [],
     "prompt_number": 5
    },
    {
     "cell_type": "markdown",
     "metadata": {
      "internals": {
       "frag_helper": "fragment_end",
       "frag_number": 11,
       "slide_type": "subslide"
      },
      "slideshow": {
       "slide_type": "slide"
      }
     },
     "source": [
      "Defining components of the evolutionary algorithm."
     ]
    },
    {
     "cell_type": "code",
     "collapsed": false,
     "input": [
      "def uniform(low, up, size=None):\n",
      "    try:\n",
      "        return [random.uniform(a, b) for a, b in zip(low, up)]\n",
      "    except TypeError:\n",
      "        return [random.uniform(a, b) for a, b in zip([low] * size, [up] * size)]\n",
      "\n",
      "toolbox.register(\"attr_float\", uniform, BOUND_LOW, BOUND_UP, NDIM)\n",
      "toolbox.register(\"individual\", tools.initIterate, creator.Individual, toolbox.attr_float)\n",
      "toolbox.register(\"population\", tools.initRepeat, list, toolbox.individual)"
     ],
     "language": "python",
     "metadata": {
      "internals": {
       "frag_helper": "fragment_end",
       "frag_number": 11,
       "slide_helper": "subslide_end"
      },
      "slide_helper": "slide_end",
      "slideshow": {
       "slide_type": "-"
      }
     },
     "outputs": [],
     "prompt_number": 6
    },
    {
     "cell_type": "markdown",
     "metadata": {
      "internals": {
       "frag_helper": "fragment_end",
       "frag_number": 11,
       "slide_type": "subslide"
      },
      "slideshow": {
       "slide_type": "slide"
      }
     },
     "source": [
      "Create an example random population and evaluate the individuals."
     ]
    },
    {
     "cell_type": "code",
     "collapsed": false,
     "input": [
      "example_pop = toolbox.population(n=5000)"
     ],
     "language": "python",
     "metadata": {
      "internals": {
       "frag_helper": "fragment_end",
       "frag_number": 11
      },
      "slideshow": {
       "slide_type": "-"
      }
     },
     "outputs": [],
     "prompt_number": 7
    },
    {
     "cell_type": "code",
     "collapsed": false,
     "input": [
      "fitnesses = toolbox.map(toolbox.evaluate, example_pop)\n",
      "for ind, fit in zip(example_pop, fitnesses):\n",
      "    ind.fitness.values = fit"
     ],
     "language": "python",
     "metadata": {
      "internals": {
       "frag_helper": "fragment_end",
       "frag_number": 11
      },
      "slideshow": {
       "slide_type": "-"
      }
     },
     "outputs": [],
     "prompt_number": 8
    },
    {
     "cell_type": "markdown",
     "metadata": {
      "internals": {
       "frag_helper": "fragment_end",
       "frag_number": 25
      },
      "slideshow": {
       "slide_type": "-"
      }
     },
     "source": [
      "We also need `a_given_individual`."
     ]
    },
    {
     "cell_type": "code",
     "collapsed": false,
     "input": [
      "a_given_individual = toolbox.population(n=1)[0]"
     ],
     "language": "python",
     "metadata": {
      "internals": {
       "frag_helper": "fragment_end",
       "frag_number": 25
      },
      "slideshow": {
       "slide_type": "-"
      }
     },
     "outputs": [],
     "prompt_number": 9
    },
    {
     "cell_type": "code",
     "collapsed": false,
     "input": [
      "a_given_individual.fitness.values = toolbox.evaluate(a_given_individual)"
     ],
     "language": "python",
     "metadata": {
      "internals": {
       "frag_helper": "fragment_end",
       "frag_number": 25,
       "slide_helper": "subslide_end"
      },
      "slide_helper": "slide_end",
      "slideshow": {
       "slide_type": "-"
      }
     },
     "outputs": [],
     "prompt_number": 10
    },
    {
     "cell_type": "markdown",
     "metadata": {
      "internals": {
       "frag_helper": "fragment_end",
       "frag_number": 25,
       "slide_type": "subslide"
      },
      "slideshow": {
       "slide_type": "slide"
      }
     },
     "source": [
      "DEAP comes with a Pareto dominance relation that we can use."
     ]
    },
    {
     "cell_type": "code",
     "collapsed": false,
     "input": [
      "def dominates(x,y):\n",
      "    return tools.emo.isDominated(x.fitness.values, y.fitness.values)"
     ],
     "language": "python",
     "metadata": {
      "internals": {
       "frag_helper": "fragment_end",
       "frag_number": 25
      },
      "slideshow": {
       "slide_type": "-"
      }
     },
     "outputs": [],
     "prompt_number": 11
    },
    {
     "cell_type": "markdown",
     "metadata": {
      "internals": {
       "frag_helper": "fragment_end",
       "frag_number": 25
      },
      "slideshow": {
       "slide_type": "-"
      }
     },
     "source": [
      "Lets compute the set of individuals that are `dominated` by `a_given_individual`, the ones that dominate it (its `dominators`) and the remaining ones."
     ]
    },
    {
     "cell_type": "code",
     "collapsed": false,
     "input": [
      "dominated = [ind for ind in example_pop if dominates(a_given_individual, ind)]\n",
      "dominators = [ind for ind in example_pop if dominates(ind, a_given_individual)]\n",
      "others = [ind for ind in example_pop if not ind in dominated and not ind in dominators]"
     ],
     "language": "python",
     "metadata": {
      "internals": {
       "frag_helper": "fragment_end",
       "frag_number": 25,
       "slide_helper": "subslide_end"
      },
      "slide_helper": "slide_end",
      "slideshow": {
       "slide_type": "-"
      }
     },
     "outputs": [],
     "prompt_number": 12
    },
    {
     "cell_type": "markdown",
     "metadata": {
      "internals": {
       "frag_helper": "fragment_end",
       "frag_number": 25,
       "slide_type": "subslide"
      },
      "slideshow": {
       "slide_type": "slide"
      }
     },
     "source": [
      "For `a_given_individual` (blue dot) we can now plot those that are dominated by it (in green), those that dominate it (in red) and those that are uncomparable."
     ]
    },
    {
     "cell_type": "code",
     "collapsed": false,
     "input": [
      "plt.figure(figsize=(5,5))\n",
      "for ind in dominators:\n",
      "    plt.plot(ind.fitness.values[0], ind.fitness.values[1], 'r.', alpha=0.5)\n",
      "for ind in dominated:\n",
      "    plt.plot(ind.fitness.values[0], ind.fitness.values[1], 'g.', alpha=0.5)\n",
      "for ind in others:\n",
      "    plt.plot(ind.fitness.values[0], ind.fitness.values[1], 'k.', alpha=0.2)\n",
      "plt.plot(a_given_individual.fitness.values[0], a_given_individual.fitness.values[1], 'bo', ms=11);"
     ],
     "language": "python",
     "metadata": {
      "internals": {
       "frag_helper": "fragment_end",
       "frag_number": 25,
       "slide_helper": "subslide_end"
      },
      "slide_helper": "slide_end",
      "slideshow": {
       "slide_type": "-"
      }
     },
     "outputs": [
      {
       "metadata": {},
       "output_type": "display_data",
       "png": "[encoded data removed]",
       "text": [
        "<matplotlib.figure.Figure at 0x10a074048>"
       ]
      }
     ],
     "prompt_number": 13
    },
    {
     "cell_type": "markdown",
     "metadata": {
      "internals": {
       "frag_helper": "fragment_end",
       "frag_number": 25,
       "slide_helper": "subslide_end",
       "slide_type": "subslide"
      },
      "slide_helper": "slide_end",
      "slideshow": {
       "slide_type": "slide"
      }
     },
     "source": [
      "# The Non-dominated Sorting Genetic Algorithm (NSGA-II)\n",
      "\n",
      "* NSGA-II algorithm is one of the pillars of the EMO field.\n",
      "    * Deb, K., Pratap, A., Agarwal, S., Meyarivan, T., *A fast and elitist multiobjective genetic algorithm: NSGA-II*, IEEE Transactions on Evolutionary Computation, vol.6, no.2, pp.182,197, Apr 2002 doi: [10.1109/4235.996017](http://dx.doi.org/10.1109/4235.996017).\n",
      "* Fitness assignment relies on the Pareto dominance relation:\n",
      "    1. Rank individuals according the dominance relations established between them. \n",
      "    2. Individuals with the same domination rank are then compared using a local crowding distance."
     ]
    },
    {
     "cell_type": "markdown",
     "metadata": {
      "internals": {
       "frag_helper": "fragment_end",
       "frag_number": 25,
       "slide_helper": "subslide_end",
       "slide_type": "subslide"
      },
      "slide_helper": "slide_end",
      "slideshow": {
       "slide_type": "slide"
      }
     },
     "source": [
      "## NSGA-II fitness in detail\n",
      "\n",
      "* The first step consists in classifying the individuals in a series of categories $\\mathcal{F}_1,\\ldots,\\mathcal{F}_L$. \n",
      "\n",
      "* Each of these categories store individuals that are only dominated by the elements of the previous categories,\n",
      "$$\n",
      "\\renewcommand{\\vec}[1]{\\mathbf{#1}}\n",
      "\\renewcommand{\\set}[1]{\\mathcal{#1}}\n",
      "\\renewcommand{\\dom}{\\preccurlyeq}\n",
      "\\begin{array}{rl}\n",
      "\t\\forall \\vec{x}\\in\\set{F}_i: &\\exists \\vec{y}\\in\\set{F}_{i-1} \\text{ such that } \\vec{y}\\dom\\vec{x},\\text{ and }\\\\ \n",
      "\t                            &\\not\\exists\\vec{z}\\in \\set{P}_t\\setminus\\left( \\set{F}_1\\cup\\ldots\\cup\\set{F}_{i-1}\n",
      "\t                            \\right)\\text{ that }\\vec{z}\\dom\\vec{x}\\,;\n",
      "\\end{array}\n",
      "$$\n",
      "with $\\mathcal{F}_1$ equal to $\\mathcal{P}_t^\\ast$, the set of non-dominated individuals of $\\mathcal{P}_t$.\n",
      "\n",
      "* After all individuals are ranked a local crowding distance is assigned to them. \n",
      "* The use of this distance primes individuals more isolated with respect to others. "
     ]
    },
    {
     "cell_type": "markdown",
     "metadata": {
      "internals": {
       "frag_helper": "fragment_end",
       "frag_number": 25,
       "slide_helper": "subslide_end",
       "slide_type": "subslide"
      },
      "slide_helper": "slide_end",
      "slideshow": {
       "slide_type": "slide"
      }
     },
     "source": [
      "## Crowding distance\n",
      "\n",
      "* The assignment process goes as follows,\n",
      "    * for each category set $\\set{F}_l$, having $f_l=|\\set{F}_l|$,\n",
      "        * for each individual $\\vec{x}_i\\in\\set{F}_l$, set $d_{i}=0$.\n",
      "        * for each objective function $m=1,\\ldots,M$,\n",
      "            * $\\vec{I}=\\mathrm{sort}\\left(\\set{F}_l,m\\right)$ (generate index vector).\n",
      "            * $d_{I_1}^{(l)}=d_{I_{f_l}}^{(l)}=\\infty$.\n",
      "            * for $i=2,\\ldots,f_l-1$,\n",
      "                * Update the remaining distances as\n",
      "                $$\n",
      "                d_i = d_i + \\frac{f_m\\left(\\vec{x}_{I_{i+1}}\\right)-f_m\\left(\\vec{x}_{I_{i+1}}\\right)}\n",
      "\t\t\t                   {f_m\\left(\\vec{x}_{I_{1}}\\right)-f_m\\left(\\vec{x}_{I_{f_l}}\\right)}\\,.\n",
      "                $$\n",
      "\n",
      "Here the $\\mathrm{sort}\\left(\\set{F},m\\right)$ function produces an ordered index vector $\\vec{I}$ with respect to objective function $m$. "
     ]
    },
    {
     "cell_type": "markdown",
     "metadata": {
      "internals": {
       "frag_helper": "fragment_end",
       "frag_number": 25,
       "slide_helper": "subslide_end",
       "slide_type": "subslide"
      },
      "slide_helper": "slide_end",
      "slideshow": {
       "slide_type": "slide"
      }
     },
     "source": [
      "Sorting the population by rank and distance.\n",
      "* Having the individual ranks and their local distances they are sorted using the crowded comparison operator, stated as: \n",
      "    * An individual $\\vec{x}_i$ _is better than_ $\\vec{x}_j$ if:\n",
      "        * $\\vec{x}_i$ has a better rank: $\\vec{x}_i\\in\\set{F}_k$, $\\vec{x}_j\\in\\set{F}_l$ and $k<l$, or;\n",
      "        * if $k=l$ and $d_i>d_j$.\n",
      "        \n",
      "**Now we have key element of the the non-dominated sorting GA.**"
     ]
    },
    {
     "cell_type": "markdown",
     "metadata": {
      "internals": {
       "frag_helper": "fragment_end",
       "frag_number": 25,
       "slide_type": "subslide"
      },
      "slideshow": {
       "slide_type": "slide"
      }
     },
     "source": [
      "## Implementing NSGA-II"
     ]
    },
    {
     "cell_type": "code",
     "collapsed": false,
     "input": [
      "toolbox = base.Toolbox()"
     ],
     "language": "python",
     "metadata": {
      "internals": {
       "frag_helper": "fragment_end",
       "frag_number": 25
      },
      "slideshow": {
       "slide_type": "-"
      }
     },
     "outputs": [],
     "prompt_number": 14
    },
    {
     "cell_type": "markdown",
     "metadata": {
      "internals": {
       "frag_helper": "fragment_end",
       "frag_number": 25
      },
      "slideshow": {
       "slide_type": "-"
      }
     },
     "source": [
      "Let's try DTLZ3, a more complex problem that DTLZ2 as it has many local Pareto-optimal fronts that run parallel to global one.\n",
      "* As in DTLZ2, the Pareto-optimal front lies in the first [orthant](http://en.wikipedia.org/wiki/Orthant) of a unit (radius 1) hypersphere located at the coordinate origin ($\\vec{0}$)."
     ]
    },
    {
     "cell_type": "code",
     "collapsed": false,
     "input": [
      "toolbox.register(\"evaluate\", lambda ind: benchmarks.dtlz3(ind, 2))"
     ],
     "language": "python",
     "metadata": {
      "internals": {
       "frag_helper": "fragment_end",
       "frag_number": 25,
       "slide_helper": "subslide_end"
      },
      "slide_helper": "slide_end",
      "slideshow": {
       "slide_type": "-"
      }
     },
     "outputs": [],
     "prompt_number": 15
    },
    {
     "cell_type": "code",
     "collapsed": false,
     "input": [
      "toolbox.register(\"attr_float\", uniform, BOUND_LOW, BOUND_UP, NDIM)\n",
      "toolbox.register(\"individual\", tools.initIterate, creator.Individual, toolbox.attr_float)\n",
      "toolbox.register(\"population\", tools.initRepeat, list, toolbox.individual)"
     ],
     "language": "python",
     "metadata": {
      "internals": {
       "frag_helper": "fragment_end",
       "frag_number": 25,
       "slide_type": "subslide"
      },
      "slideshow": {
       "slide_type": "slide"
      }
     },
     "outputs": [],
     "prompt_number": 16
    },
    {
     "cell_type": "code",
     "collapsed": false,
     "input": [
      "toolbox.register(\"mate\", tools.cxSimulatedBinaryBounded, low=BOUND_LOW, up=BOUND_UP, eta=20.0)\n",
      "toolbox.register(\"mutate\", tools.mutPolynomialBounded, low=BOUND_LOW, up=BOUND_UP, eta=20.0, indpb=1.0/NDIM)\n",
      "toolbox.register(\"select\", tools.selNSGA2)"
     ],
     "language": "python",
     "metadata": {
      "internals": {
       "frag_helper": "fragment_end",
       "frag_number": 25
      },
      "slideshow": {
       "slide_type": "-"
      }
     },
     "outputs": [],
     "prompt_number": 17
    },
    {
     "cell_type": "markdown",
     "metadata": {
      "internals": {
       "frag_helper": "fragment_end",
       "frag_number": 44
      },
      "slideshow": {
       "slide_type": "-"
      }
     },
     "source": [
      "Let's also use the `toolbox` to pass other configuration to our function. This will show itself usefull when performing massive experiments."
     ]
    },
    {
     "cell_type": "code",
     "collapsed": false,
     "input": [
      "toolbox.pop_size = 50\n",
      "toolbox.max_gen = 3000\n",
      "toolbox.mut_prob = 0.2"
     ],
     "language": "python",
     "metadata": {
      "internals": {
       "frag_helper": "fragment_end",
       "frag_number": 44,
       "slide_helper": "subslide_end"
      },
      "slide_helper": "slide_end",
      "slideshow": {
       "slide_type": "-"
      }
     },
     "outputs": [],
     "prompt_number": 18
    },
    {
     "cell_type": "markdown",
     "metadata": {
      "internals": {
       "frag_helper": "fragment_end",
       "frag_number": 44,
       "slide_type": "subslide"
      },
      "slideshow": {
       "slide_type": "slide"
      }
     },
     "source": [
      "## A compact NSGA-II implementation\n",
      "\n",
      "Storing all the required information in the `toolbox` and using DEAP's `algorithms.eaMuPlusLambda` function allows us to create a very compact -albeit not a 100% exact copy of the original- implementation of NSGA-II."
     ]
    },
    {
     "cell_type": "code",
     "collapsed": false,
     "input": [
      "def nsga_ii(toolbox, stats=None, verbose=False):\n",
      "    pop = toolbox.population(n=toolbox.pop_size)\n",
      "    pop = toolbox.select(pop, len(pop))\n",
      "    return algorithms.eaMuPlusLambda(pop, toolbox, mu=toolbox.pop_size, \n",
      "                                     lambda_=toolbox.pop_size, \n",
      "                                     cxpb=1-toolbox.mut_prob,\n",
      "                                     mutpb=toolbox.mut_prob, \n",
      "                                     stats=stats, \n",
      "                                     ngen=toolbox.max_gen, \n",
      "                                     verbose=verbose)"
     ],
     "language": "python",
     "metadata": {
      "internals": {
       "frag_helper": "fragment_end",
       "frag_number": 44,
       "slide_helper": "subslide_end"
      },
      "slide_helper": "slide_end",
      "slideshow": {
       "slide_type": "-"
      }
     },
     "outputs": [],
     "prompt_number": 19
    },
    {
     "cell_type": "markdown",
     "metadata": {
      "internals": {
       "frag_helper": "fragment_end",
       "frag_number": 44,
       "slide_type": "subslide"
      },
      "slideshow": {
       "slide_type": "slide"
      }
     },
     "source": [
      "## Running the algorithm"
     ]
    },
    {
     "cell_type": "markdown",
     "metadata": {
      "internals": {
       "frag_helper": "fragment_end",
       "frag_number": 44
      },
      "slideshow": {
       "slide_type": "-"
      }
     },
     "source": [
      "We are now ready to run our NSGA-II."
     ]
    },
    {
     "cell_type": "code",
     "collapsed": false,
     "input": [
      "%time res, logbook = nsga_ii(toolbox)"
     ],
     "language": "python",
     "metadata": {
      "internals": {
       "frag_helper": "fragment_end",
       "frag_number": 50
      },
      "slideshow": {
       "slide_type": "-"
      }
     },
     "outputs": [
      {
       "output_type": "stream",
       "stream": "stdout",
       "text": [
        "CPU times: user 51.8 s, sys: 130 ms, total: 52 s\n",
        "Wall time: 52.2 s\n"
       ]
      }
     ],
     "prompt_number": 20
    },
    {
     "cell_type": "markdown",
     "metadata": {
      "internals": {
       "frag_helper": "fragment_end",
       "frag_number": 50
      },
      "slideshow": {
       "slide_type": "-"
      }
     },
     "source": [
      "We can now get the Pareto fronts in the results (`res`)."
     ]
    },
    {
     "cell_type": "code",
     "collapsed": false,
     "input": [
      "fronts = tools.emo.sortLogNondominated(res, len(res))"
     ],
     "language": "python",
     "metadata": {
      "internals": {
       "frag_helper": "fragment_end",
       "frag_number": 50,
       "slide_helper": "subslide_end"
      },
      "slide_helper": "slide_end",
      "slideshow": {
       "slide_type": "-"
      }
     },
     "outputs": [],
     "prompt_number": 21
    },
    {
     "cell_type": "markdown",
     "metadata": {
      "internals": {
       "frag_helper": "fragment_end",
       "frag_number": 50,
       "slide_type": "subslide"
      },
      "slideshow": {
       "slide_type": "slide"
      }
     },
     "source": [
      "## Resulting Pareto fronts"
     ]
    },
    {
     "cell_type": "code",
     "collapsed": false,
     "input": [
      "plot_colors = ('b','r', 'g', 'm', 'y', 'k', 'c')\n",
      "fig, ax = plt.subplots(1, figsize=(4,4))\n",
      "for i,inds in enumerate(fronts):\n",
      "    par = [toolbox.evaluate(ind) for ind in inds]\n",
      "    df = pd.DataFrame(par)\n",
      "    df.plot(ax=ax, kind='scatter', label='Front ' + str(i+1), \n",
      "                 x=df.columns[0], y=df.columns[1], \n",
      "                 color=plot_colors[i % len(plot_colors)])\n",
      "plt.xlabel('$f_1(\\mathbf{x})$');plt.ylabel('$f_2(\\mathbf{x})$');"
     ],
     "language": "python",
     "metadata": {
      "internals": {
       "frag_helper": "fragment_end",
       "frag_number": 50
      },
      "slideshow": {
       "slide_type": "-"
      }
     },
     "outputs": [
      {
       "metadata": {},
       "output_type": "display_data",
       "png": "[encoded data removed]",
       "text": [
        "<matplotlib.figure.Figure at 0x1105f6b00>"
       ]
      }
     ],
     "prompt_number": 22
    },
    {
     "cell_type": "markdown",
     "metadata": {
      "internals": {
       "frag_helper": "fragment_end",
       "frag_number": 50,
       "slide_helper": "subslide_end"
      },
      "slide_helper": "slide_end",
      "slideshow": {
       "slide_type": "-"
      }
     },
     "source": [
      "* Results are far from the optimum and in only one front.\n",
      "* It is better to make an animated plot of the evolution as it takes place."
     ]
    },
    {
     "cell_type": "markdown",
     "metadata": {
      "internals": {
       "frag_helper": "fragment_end",
       "frag_number": 50,
       "slide_type": "subslide"
      },
      "slideshow": {
       "slide_type": "slide"
      }
     },
     "source": [
      "## Animating the evolutionary process"
     ]
    },
    {
     "cell_type": "markdown",
     "metadata": {
      "internals": {
       "frag_helper": "fragment_end",
       "frag_number": 50
      },
      "slideshow": {
       "slide_type": "-"
      }
     },
     "source": [
      "We create a `stats` to store the individuals not only their objective function values."
     ]
    },
    {
     "cell_type": "code",
     "collapsed": false,
     "input": [
      "stats = tools.Statistics()\n",
      "stats.register(\"pop\", copy.deepcopy)"
     ],
     "language": "python",
     "metadata": {
      "internals": {
       "frag_helper": "fragment_end",
       "frag_number": 50
      },
      "slideshow": {
       "slide_type": "-"
      }
     },
     "outputs": [],
     "prompt_number": 23
    },
    {
     "cell_type": "code",
     "collapsed": false,
     "input": [
      "toolbox.max_gen = 4000 # we need more generations!"
     ],
     "language": "python",
     "metadata": {
      "internals": {
       "frag_helper": "fragment_end",
       "frag_number": 50
      },
      "slideshow": {
       "slide_type": "-"
      }
     },
     "outputs": [],
     "prompt_number": 24
    },
    {
     "cell_type": "markdown",
     "metadata": {
      "internals": {
       "frag_helper": "fragment_end",
       "frag_number": 60
      },
      "slideshow": {
       "slide_type": "-"
      }
     },
     "source": [
      "Re-run the algorithm to get the data necessary for plotting."
     ]
    },
    {
     "cell_type": "code",
     "collapsed": false,
     "input": [
      "%time res, logbook = nsga_ii(toolbox, stats=stats)"
     ],
     "language": "python",
     "metadata": {
      "internals": {
       "frag_helper": "fragment_end",
       "frag_number": 60,
       "slide_helper": "subslide_end"
      },
      "slide_helper": "subslide_end",
      "slideshow": {
       "slide_type": "-"
      }
     },
     "outputs": [
      {
       "output_type": "stream",
       "stream": "stdout",
       "text": [
        "CPU times: user 1min 16s, sys: 564 ms, total: 1min 17s\n",
        "Wall time: 1min 19s\n"
       ]
      }
     ],
     "prompt_number": 25
    },
    {
     "cell_type": "code",
     "collapsed": false,
     "input": [
      "from JSAnimation import IPython_display\n",
      "import matplotlib.colors as colors\n",
      "from matplotlib import animation"
     ],
     "language": "python",
     "metadata": {
      "internals": {
       "frag_helper": "fragment_end",
       "frag_number": 60,
       "slide_type": "subslide"
      },
      "slideshow": {
       "slide_type": "subslide"
      }
     },
     "outputs": [],
     "prompt_number": 26
    },
    {
     "cell_type": "code",
     "collapsed": false,
     "input": [
      "def animate(frame_index, logbook):\n",
      "    'Updates all plots to match frame _i_ of the animation.'\n",
      "    ax.clear()    \n",
      "    fronts = tools.emo.sortLogNondominated(logbook.select('pop')[frame_index], \n",
      "                                           len(logbook.select('pop')[frame_index]))\n",
      "    for i,inds in enumerate(fronts):\n",
      "        par = [toolbox.evaluate(ind) for ind in inds]\n",
      "        df = pd.DataFrame(par)\n",
      "        df.plot(ax=ax, kind='scatter', label='Front ' + str(i+1), \n",
      "                 x=df.columns[0], y =df.columns[1], alpha=0.47,\n",
      "                 color=plot_colors[i % len(plot_colors)])\n",
      "        \n",
      "    ax.set_title('$t=$' + str(frame_index))\n",
      "    ax.set_xlabel('$f_1(\\mathbf{x})$');ax.set_ylabel('$f_2(\\mathbf{x})$')\n",
      "    return None"
     ],
     "language": "python",
     "metadata": {
      "internals": {
       "frag_helper": "fragment_end",
       "frag_number": 60,
       "slide_helper": "subslide_end"
      },
      "slide_helper": "slide_end",
      "slideshow": {
       "slide_type": "-"
      }
     },
     "outputs": [],
     "prompt_number": 27
    },
    {
     "cell_type": "code",
     "collapsed": false,
     "input": [
      "fig = plt.figure(figsize=(4,4))\n",
      "ax = fig.gca()\n",
      "anim = animation.FuncAnimation(fig, lambda i: animate(i, logbook), \n",
      "                               frames=len(logbook), interval=60, \n",
      "                               blit=True)\n",
      "anim"
     ],
     "language": "python",
     "metadata": {
      "internals": {
       "frag_helper": "fragment_end",
       "frag_number": 60,
       "slide_helper": "subslide_end",
       "slide_type": "subslide"
      },
      "slide_helper": "slide_end",
      "slideshow": {
       "slide_type": "slide"
      }
     },
     "outputs": [],
     "prompt_number": 28
    },
    {
     "cell_type": "markdown",
     "metadata": {
      "internals": {
       "frag_helper": "fragment_end",
       "frag_number": 60,
       "slide_type": "subslide"
      },
      "slideshow": {
       "slide_type": "slide"
      }
     },
     "source": [
      "The previous animation makes the notebook too big for on-line viewing. To circumvent this, it is better to save the animation as video and upload it to YouTube."
     ]
    },
    {
     "cell_type": "code",
     "collapsed": false,
     "input": [
      "anim.save('nsgaii-dtlz3.mp4', fps=15, bitrate=-1, dpi=500)"
     ],
     "language": "python",
     "metadata": {
      "internals": {
       "frag_helper": "fragment_end",
       "frag_number": 60
      },
      "slideshow": {
       "slide_type": "-"
      }
     },
     "outputs": [],
     "prompt_number": 29
    },
    {
     "cell_type": "code",
     "collapsed": false,
     "input": [
      "from IPython.display import YouTubeVideo\n",
      "YouTubeVideo('Cm7r4cJq59s')"
     ],
     "language": "python",
     "metadata": {
      "internals": {
       "frag_helper": "fragment_end",
       "frag_number": 67
      },
      "slideshow": {
       "slide_type": "-"
      }
     },
     "outputs": [
      {
       "html": [
        "\n",
        "        <iframe\n",
        "            width=\"400\"\n",
        "            height=300\"\n",
        "            src=\"https://www.youtube.com/embed/Cm7r4cJq59s\"\n",
        "            frameborder=\"0\"\n",
        "            allowfullscreen\n",
        "        ></iframe>\n",
        "        "
       ],
       "metadata": {},
       "output_type": "pyout",
       "prompt_number": 30,
       "text": [
        "<IPython.lib.display.YouTubeVideo at 0x110a47cf8>"
       ]
      }
     ],
     "prompt_number": 30
    },
    {
     "cell_type": "markdown",
     "metadata": {
      "internals": {
       "frag_helper": "fragment_end",
       "frag_number": 67,
       "slide_helper": "subslide_end"
      },
      "slide_helper": "slide_end",
      "slideshow": {
       "slide_type": "-"
      }
     },
     "source": [
      "Here it is clearly visible how the algorithm \"jumps\" from one local-optimum to a better one as evolution takes place."
     ]
    },
    {
     "cell_type": "markdown",
     "metadata": {
      "internals": {
       "frag_helper": "fragment_end",
       "frag_number": 67,
       "slide_helper": "subslide_end",
       "slide_type": "subslide"
      },
      "slide_helper": "slide_end",
      "slideshow": {
       "slide_type": "slide"
      }
     },
     "source": [
      "# MOP benchmark problem toolkits\n",
      "\n",
      "Each problem instance is meant to test the algorithms with regard with a given feature: local optima, convexity, discontinuity, bias, or a combination of them.\n",
      "\n",
      "* [*ZDT1-6*](http://www.tik.ee.ethz.ch/sop/download/supplementary/testproblems/): Two-objective problems with a fixed number of decision variables.\n",
      "     * E. Zitzler, K. Deb, and L. Thiele. Comparison of Multiobjective Evolutionary Algorithms: Empirical Results. Evolutionary Computation, 8(2):173-195, 2000. ([pdf](http://www.tik.ee.ethz.ch/sop/publicationListFiles/zdt2000a.pdf))\n",
      "* [*DTLZ1-7*](http://www.tik.ee.ethz.ch/sop/download/supplementary/testproblems/): $m$-objective problems with $n$ variables.\n",
      "     * K. Deb, L. Thiele, M. Laumanns and E. Zitzler. Scalable Multi-Objective Optimization Test Problems. CEC 2002, p. 825 - 830, IEEE Press, 2002. ([pdf](http://www.tik.ee.ethz.ch/sop/publicationListFiles/dtlz2002a.pdf))"
     ]
    },
    {
     "cell_type": "markdown",
     "metadata": {
      "internals": {
       "frag_helper": "fragment_end",
       "frag_number": 67,
       "slide_helper": "subslide_end",
       "slide_type": "subslide"
      },
      "slide_helper": "slide_end",
      "slideshow": {
       "slide_type": "slide"
      }
     },
     "source": [
      "* [*CEC'09*](http://dces.essex.ac.uk/staff/zhang/moeacompetition09.htm): Two- and three- objective problems that very complex Pareto sets.\n",
      "    * Zhang, Q., Zhou, A., Zhao, S., & Suganthan, P. N. (2009). Multiobjective optimization test instances for the CEC 2009 special session and competition. In 2009 IEEE Congress on Evolutionary Computation (pp. 1\u201330). ([pdf](http://dces.essex.ac.uk/staff/zhang/MOEAcompetition/cec09testproblem0904.pdf.pdf))\n",
      "* [*WFG1-9*](http://www.wfg.csse.uwa.edu.au/publications.html#toolkit): $m$-objective problems with $n$ variables, very complex.\n",
      "    * Huband, S., Hingston, P., Barone, L., & While, L. (2006). A review of multiobjective test problems and a scalable test problem toolkit. IEEE Transactions on Evolutionary Computation, 10(5), 477\u2013506. doi:10.1109/TEVC.2005.861417"
     ]
    },
    {
     "cell_type": "markdown",
     "metadata": {
      "internals": {
       "frag_helper": "fragment_end",
       "frag_number": 67,
       "slide_type": "subslide"
      },
      "slideshow": {
       "slide_type": "slide"
      }
     },
     "source": [
      "DEAP still lacks some of these problems so I will grab the DTLZ5, DTLZ6 and DTLZ7 problems from inspyred and adapt them for DEAP. \n",
      "\n",
      "*Note to self*: sent these problems to the DEAP guys."
     ]
    },
    {
     "cell_type": "markdown",
     "metadata": {
      "internals": {
       "frag_helper": "fragment_end",
       "frag_number": 67,
       "slide_helper": "subslide_end"
      },
      "slide_helper": "slide_end",
      "slideshow": {
       "slide_type": "-"
      }
     },
     "source": [
      "DTLZ5 and DTLZ6 have an $m-1$-dimensional Pareto-optimal front.\n",
      "* This means that in 3D the Pareto optimal front is a 2D curve.\n",
      "<div align='center'><img src='http://www.cs.cinvestav.mx/~emoobook/apendix-e/galeria4/dtlz5a.jpg' width=\"38%\" align='center'/></div>\n",
      "* In two dimensions the front is **a point**."
     ]
    },
    {
     "cell_type": "code",
     "collapsed": false,
     "input": [
      "def dtlz5(ind, n_objs):\n",
      "    from functools import reduce\n",
      "    g = lambda x: sum([(a - 0.5)**2 for a in x])\n",
      "    gval = g(ind[n_objs-1:])\n",
      "    \n",
      "    theta = lambda x: math.pi / (4.0 * (1 + gval)) * (1 + 2 * gval * x)\n",
      "    fit = [(1 + gval) * math.cos(math.pi / 2.0 * ind[0]) *\n",
      "           reduce(lambda x,y: x*y, [math.cos(theta(a)) for a in ind[1:]])]\n",
      "    for m in reversed(range(1, n_objs)):\n",
      "        if m == 1:\n",
      "            fit.append((1 + gval) * math.sin(math.pi / 2.0 * ind[0]))\n",
      "        else:\n",
      "            fit.append((1 + gval) * math.cos(math.pi / 2.0 * ind[0]) *\n",
      "                       reduce(lambda x,y: x*y, [math.cos(theta(a)) for a in ind[1:m-1]], 1) *\n",
      "                       math.sin(theta(ind[m-1])))\n",
      "    return fit"
     ],
     "language": "python",
     "metadata": {
      "internals": {
       "frag_helper": "fragment_end",
       "frag_number": 67,
       "slide_helper": "subslide_end",
       "slide_type": "subslide"
      },
      "slide_helper": "slide_end",
      "slideshow": {
       "slide_type": "slide"
      }
     },
     "outputs": [],
     "prompt_number": 31
    },
    {
     "cell_type": "code",
     "collapsed": false,
     "input": [
      "def dtlz6(ind, n_objs):\n",
      "    from functools import reduce\n",
      "    gval = sum([a**0.1 for a in ind[n_objs-1:]])\n",
      "    theta = lambda x: math.pi / (4.0 * (1 + gval)) * (1 + 2 * gval * x)\n",
      "    fit = [(1 + gval) * math.cos(math.pi / 2.0 * ind[0]) * \n",
      "           reduce(lambda x,y: x*y, [math.cos(theta(a)) for a in ind[1:]])]\n",
      "    for m in reversed(range(1, n_objs)):\n",
      "        if m == 1:\n",
      "            fit.append((1 + gval) * math.sin(math.pi / 2.0 * ind[0]))\n",
      "        else:\n",
      "            fit.append((1 + gval) * math.cos(math.pi / 2.0 * ind[0]) *\n",
      "                       reduce(lambda x,y: x*y, [math.cos(theta(a)) for a in ind[1:m-1]], 1) *\n",
      "                       math.sin(theta(ind[m-1])))\n",
      "    return fit            "
     ],
     "language": "python",
     "metadata": {
      "internals": {
       "frag_helper": "fragment_end",
       "frag_number": 67,
       "slide_helper": "subslide_end",
       "slide_type": "subslide"
      },
      "slide_helper": "slide_end",
      "slideshow": {
       "slide_type": "slide"
      }
     },
     "outputs": [],
     "prompt_number": 32
    },
    {
     "cell_type": "markdown",
     "metadata": {
      "internals": {
       "frag_helper": "fragment_end",
       "frag_number": 67,
       "slide_type": "subslide"
      },
      "slideshow": {
       "slide_type": "slide"
      }
     },
     "source": [
      "DTLZ7 has many disconnected Pareto-optimal fronts.\n",
      "\n",
      "<div align='center'><img src='http://www.cs.cinvestav.mx/~emoobook/apendix-e/galeria4/dtlz7b.jpg' width=\"38%\" align='center'/></div>"
     ]
    },
    {
     "cell_type": "code",
     "collapsed": false,
     "input": [
      "def dtlz7(ind, n_objs):\n",
      "    gval = 1 + 9.0 / len(ind[n_objs-1:]) * sum([a for a in ind[n_objs-1:]])\n",
      "    fit = [ind for ind in ind[:n_objs-1]]\n",
      "    fit.append((1 + gval) * (n_objs - sum([a / (1.0 + gval) * (1 + math.sin(3 * math.pi * a)) for a in ind[:n_objs-1]])))\n",
      "    return fit"
     ],
     "language": "python",
     "metadata": {
      "internals": {
       "frag_helper": "fragment_end",
       "frag_number": 67,
       "slide_helper": "subslide_end"
      },
      "slide_helper": "slide_end",
      "slideshow": {
       "slide_type": "-"
      }
     },
     "outputs": [],
     "prompt_number": 33
    },
    {
     "cell_type": "markdown",
     "metadata": {
      "internals": {
       "frag_helper": "fragment_end",
       "frag_number": 67,
       "slide_type": "subslide"
      },
      "slideshow": {
       "slide_type": "slide"
      }
     },
     "source": [
      "How does our NSGA-II behaves when faced with different benchmark problems?"
     ]
    },
    {
     "cell_type": "code",
     "collapsed": false,
     "input": [
      "problem_instances = {'ZDT1': benchmarks.zdt1, 'ZDT2': benchmarks.zdt2,\n",
      "                     'ZDT3': benchmarks.zdt3, 'ZDT4': benchmarks.zdt4,\n",
      "                     'DTLZ1': lambda ind: benchmarks.dtlz1(ind,2),\n",
      "                     'DTLZ2': lambda ind: benchmarks.dtlz2(ind,2),\n",
      "                     'DTLZ3': lambda ind: benchmarks.dtlz3(ind,2),\n",
      "                     'DTLZ4': lambda ind: benchmarks.dtlz4(ind,2, 100),\n",
      "                     'DTLZ5': lambda ind: dtlz5(ind,2),\n",
      "                     'DTLZ6': lambda ind: dtlz6(ind,2),\n",
      "                     'DTLZ7': lambda ind: dtlz7(ind,2)}"
     ],
     "language": "python",
     "metadata": {
      "internals": {
       "frag_helper": "fragment_end",
       "frag_number": 67,
       "slide_helper": "subslide_end"
      },
      "slide_helper": "slide_end",
      "slideshow": {
       "slide_type": "-"
      }
     },
     "outputs": [],
     "prompt_number": 34
    },
    {
     "cell_type": "code",
     "collapsed": false,
     "input": [
      "toolbox.max_gen = 1000\n",
      "\n",
      "stats = tools.Statistics(lambda ind: ind.fitness.values)\n",
      "stats.register(\"obj_vals\", np.copy)\n",
      "\n",
      "def run_problem(toolbox, problem):\n",
      "    toolbox.register('evaluate', problem)\n",
      "    return nsga_ii(toolbox, stats=stats)"
     ],
     "language": "python",
     "metadata": {
      "internals": {
       "frag_helper": "fragment_end",
       "frag_number": 67,
       "slide_type": "subslide"
      },
      "slideshow": {
       "slide_type": "slide"
      }
     },
     "outputs": [],
     "prompt_number": 35
    },
    {
     "cell_type": "markdown",
     "metadata": {
      "internals": {
       "frag_helper": "fragment_end",
       "frag_number": 80
      },
      "slideshow": {
       "slide_type": "-"
      }
     },
     "source": [
      "Running NSGA-II solving all problems. Now it takes longer."
     ]
    },
    {
     "cell_type": "code",
     "collapsed": false,
     "input": [
      "%time results = {problem: run_problem(toolbox, problem_instances[problem]) for problem in problem_instances}"
     ],
     "language": "python",
     "metadata": {
      "internals": {
       "frag_helper": "fragment_end",
       "frag_number": 81,
       "slide_helper": "subslide_end"
      },
      "slide_helper": "slide_end",
      "slideshow": {
       "slide_type": "fragment"
      }
     },
     "outputs": [
      {
       "output_type": "stream",
       "stream": "stdout",
       "text": [
        "CPU times: user 3min 16s, sys: 675 ms, total: 3min 17s\n",
        "Wall time: 3min 18s\n"
       ]
      }
     ],
     "prompt_number": 36
    },
    {
     "cell_type": "markdown",
     "metadata": {
      "internals": {
       "frag_helper": "fragment_end",
       "frag_number": 81,
       "slide_type": "subslide"
      },
      "slideshow": {
       "slide_type": "slide"
      }
     },
     "source": [
      "Creating this animation takes more programming effort."
     ]
    },
    {
     "cell_type": "code",
     "collapsed": false,
     "input": [
      "class MultiProblemAnimation:\n",
      "    def init(self, fig, results):\n",
      "        self.results = results\n",
      "        self.axs = [fig.add_subplot(3,4,i+1) for i in range(len(results))]\n",
      "        self.plots =[]\n",
      "        for i, problem in enumerate(sorted(results)):\n",
      "            (res, logbook) = self.results[problem]\n",
      "            pop = pd.DataFrame(data=logbook.select('obj_vals')[0])\n",
      "            plot = self.axs[i].plot(pop[0], pop[1], 'b.', alpha=0.47)[0]\n",
      "            self.plots.append(plot)\n",
      "        fig.tight_layout()\n",
      "            \n",
      "    def animate(self, t):\n",
      "        'Updates all plots to match frame _i_ of the animation.'\n",
      "        for i, problem in enumerate(sorted(results)):\n",
      "            #self.axs[i].clear()\n",
      "            (res, logbook) = self.results[problem]\n",
      "            pop = pd.DataFrame(data=logbook.select('obj_vals')[t])\n",
      "            self.plots[i].set_data(pop[0], pop[1])\n",
      "            self.axs[i].set_title(problem + '; $t=' + str(t)+'$') \n",
      "            self.axs[i].set_xlim((0, max(1,pop.max()[0])))\n",
      "            self.axs[i].set_ylim((0, max(1,pop.max()[1])))\n",
      "        return self.axs"
     ],
     "language": "python",
     "metadata": {
      "internals": {
       "frag_helper": "fragment_end",
       "frag_number": 81,
       "slide_helper": "subslide_end"
      },
      "slide_helper": "slide_end",
      "slideshow": {
       "slide_type": "-"
      }
     },
     "outputs": [],
     "prompt_number": 37
    },
    {
     "cell_type": "code",
     "collapsed": false,
     "input": [
      "mpa = MultiProblemAnimation()"
     ],
     "language": "python",
     "metadata": {
      "internals": {
       "frag_helper": "fragment_end",
       "frag_number": 81,
       "slide_type": "subslide"
      },
      "slideshow": {
       "slide_type": "slide"
      }
     },
     "outputs": [],
     "prompt_number": 38
    },
    {
     "cell_type": "code",
     "collapsed": false,
     "input": [
      "fig = plt.figure(figsize=(14,6))\n",
      "anim = animation.FuncAnimation(fig, mpa.animate, init_func=mpa.init(fig,results), \n",
      "                               frames=toolbox.max_gen, interval=60, blit=True)\n",
      "anim"
     ],
     "language": "python",
     "metadata": {
      "internals": {
       "frag_helper": "fragment_end",
       "frag_number": 81,
       "slide_helper": "subslide_end"
      },
      "slide_helper": "slide_end",
      "slideshow": {
       "slide_type": "-"
      }
     },
     "outputs": [],
     "prompt_number": 39
    },
    {
     "cell_type": "markdown",
     "metadata": {
      "internals": {
       "frag_helper": "fragment_end",
       "frag_number": 81,
       "slide_type": "subslide"
      },
      "slideshow": {
       "slide_type": "slide"
      }
     },
     "source": [
      "Saving the animation as video and uploading it to youtube."
     ]
    },
    {
     "cell_type": "code",
     "collapsed": false,
     "input": [
      "anim.save('nsgaii-benchmarks.mp4', fps=15, bitrate=-1, dpi=500)"
     ],
     "language": "python",
     "metadata": {
      "internals": {
       "frag_helper": "fragment_end",
       "frag_number": 81
      },
      "slideshow": {
       "slide_type": "-"
      }
     },
     "outputs": [],
     "prompt_number": 40
    },
    {
     "cell_type": "code",
     "collapsed": false,
     "input": [
      "YouTubeVideo('8t-aWcpDH0U')"
     ],
     "language": "python",
     "metadata": {
      "internals": {
       "frag_helper": "fragment_end",
       "frag_number": 81
      },
      "slideshow": {
       "slide_type": "-"
      }
     },
     "outputs": [
      {
       "html": [
        "\n",
        "        <iframe\n",
        "            width=\"400\"\n",
        "            height=300\"\n",
        "            src=\"https://www.youtube.com/embed/8t-aWcpDH0U\"\n",
        "            frameborder=\"0\"\n",
        "            allowfullscreen\n",
        "        ></iframe>\n",
        "        "
       ],
       "metadata": {},
       "output_type": "pyout",
       "prompt_number": 41,
       "text": [
        "<IPython.lib.display.YouTubeVideo at 0x110a79d68>"
       ]
      }
     ],
     "prompt_number": 41
    },
    {
     "cell_type": "markdown",
     "metadata": {
      "internals": {
       "frag_helper": "fragment_end",
       "frag_number": 81,
       "slide_helper": "subslide_end"
      },
      "slide_helper": "slide_end",
      "slideshow": {
       "slide_type": "-"
      }
     },
     "source": [
      "* It is interesting how the algorithm deals with each problem: clearly some problems are harder than others.\n",
      "* In some cases it \"hits\" the Pareto front and then slowly explores it.\n",
      "\n",
      "**Read more about this in the class materials.**"
     ]
    },
    {
     "cell_type": "markdown",
     "metadata": {
      "internals": {
       "frag_helper": "fragment_end",
       "frag_number": 81,
       "slide_helper": "subslide_end",
       "slide_type": "subslide"
      },
      "slide_helper": "slide_end",
      "slideshow": {
       "slide_type": "slide"
      }
     },
     "source": [
      "# Experiment design and reporting results\n",
      "\n",
      "* Watching an animation of an EMO algorithm solve a problem is certainly fun. \n",
      "* It also allows us to understand many particularities of the problem being solved.\n",
      "* But, as [Carlos Coello](http://delta.cs.cinvestav.mx/~ccoello/) would say, we are *not* in an art appreciation class.\n",
      "* We should follow the key concepts provided by the [scientific method](http://en.wikipedia.org/wiki/Scientific_method).\n",
      "* I urge you to study the [experimental design](http://en.wikipedia.org/wiki/Design_of_experiments) topic in depth as it is an essential knowledge.\n",
      "\n",
      "**Evolutionary algorithms are stochastic algorithms, therefore their results must be assessed by repeating experiments until you reach an statistically valid conclusion.** "
     ]
    },
    {
     "cell_type": "markdown",
     "metadata": {
      "internals": {
       "frag_helper": "fragment_end",
       "frag_number": 81,
       "slide_helper": "subslide_end",
       "slide_type": "subslide"
      },
      "slide_helper": "slide_end",
      "slideshow": {
       "slide_type": "slide"
      }
     },
     "source": [
      "## An illustrative simple/sample experiment\n",
      "\n",
      "Let's make a relatively simple experiment:\n",
      "\n",
      "* **Hypothesis**: The mutation probability of NSGA-II matters when solving the DTLZ3 problem.\n",
      "* **Procedure**: We must perform an experiment testing different mutation probabilities while keeping the other parameters constant."
     ]
    },
    {
     "cell_type": "markdown",
     "metadata": {
      "internals": {
       "frag_helper": "fragment_end",
       "frag_number": 81,
       "slide_helper": "subslide_end",
       "slide_type": "subslide"
      },
      "slide_helper": "slide_end",
      "slideshow": {
       "slide_type": "slide"
      }
     },
     "source": [
      "### Notation\n",
      "\n",
      "As usual we need to establish some notation:\n",
      "\n",
      "* *Multi-objective problem* (or just *problem*): A multi-objective optimization problem, as defined above.\n",
      "* *MOEA*: An evolutionary computation method used to solve multi-objective problems.\n",
      "* *Experiment*: a combination of problem and MOEA and a set of values of their parameters.\n",
      "* *Experiment run*: The result of running an experiment.\n",
      "* We will use `toolbox` instances to define experiments. "
     ]
    },
    {
     "cell_type": "markdown",
     "metadata": {
      "internals": {
       "frag_helper": "fragment_end",
       "frag_number": 81,
       "slide_type": "subslide"
      },
      "slideshow": {
       "slide_type": "slide"
      }
     },
     "source": [
      "We start by creating a `toolbox` that will contain the configuration that will be shared across all experiments."
     ]
    },
    {
     "cell_type": "code",
     "collapsed": false,
     "input": [
      "toolbox = base.Toolbox()"
     ],
     "language": "python",
     "metadata": {
      "internals": {
       "frag_helper": "fragment_end",
       "frag_number": 81
      },
      "slideshow": {
       "slide_type": "-"
      }
     },
     "outputs": [],
     "prompt_number": 42
    },
    {
     "cell_type": "code",
     "collapsed": false,
     "input": [
      "BOUND_LOW, BOUND_UP = 0.0, 1.0\n",
      "NDIM = 30\n",
      "\n",
      "# the explanation of this... a few lines bellow\n",
      "def eval_helper(ind):\n",
      "    return benchmarks.dtlz3(ind, 2)\n",
      "\n",
      "toolbox.register(\"evaluate\", eval_helper)"
     ],
     "language": "python",
     "metadata": {
      "internals": {
       "frag_helper": "fragment_end",
       "frag_number": 81,
       "slide_helper": "subslide_end"
      },
      "slide_helper": "slide_end",
      "slideshow": {
       "slide_type": "-"
      }
     },
     "outputs": [],
     "prompt_number": 43
    },
    {
     "cell_type": "code",
     "collapsed": false,
     "input": [
      "def uniform(low, up, size=None):\n",
      "    try:\n",
      "        return [random.uniform(a, b) for a, b in zip(low, up)]\n",
      "    except TypeError:\n",
      "        return [random.uniform(a, b) for a, b in zip([low] * size, [up] * size)]\n",
      "\n",
      "toolbox.register(\"attr_float\", uniform, BOUND_LOW, BOUND_UP, NDIM)\n",
      "toolbox.register(\"individual\", tools.initIterate, creator.Individual, toolbox.attr_float)\n",
      "toolbox.register(\"population\", tools.initRepeat, list, toolbox.individual)\n",
      "\n",
      "toolbox.register(\"mate\", tools.cxSimulatedBinaryBounded, low=BOUND_LOW, up=BOUND_UP, eta=20.0)\n",
      "toolbox.register(\"mutate\", tools.mutPolynomialBounded, low=BOUND_LOW, up=BOUND_UP, eta=20.0, indpb=1.0/NDIM)\n",
      "\n",
      "toolbox.register(\"select\", tools.selNSGA2)\n",
      "\n",
      "toolbox.pop_size = 200\n",
      "toolbox.max_gen = 500"
     ],
     "language": "python",
     "metadata": {
      "internals": {
       "frag_helper": "fragment_end",
       "frag_number": 81,
       "slide_helper": "subslide_end",
       "slide_type": "subslide"
      },
      "slide_helper": "slide_end",
      "slideshow": {
       "slide_type": "slide"
      }
     },
     "outputs": [],
     "prompt_number": 44
    },
    {
     "cell_type": "markdown",
     "metadata": {
      "internals": {
       "frag_helper": "fragment_end",
       "frag_number": 81,
       "slide_type": "subslide"
      },
      "slideshow": {
       "slide_type": "slide"
      }
     },
     "source": [
      "We add a `experiment_name` to `toolbox` that we will fill up later on."
     ]
    },
    {
     "cell_type": "code",
     "collapsed": false,
     "input": [
      "toolbox.experiment_name = \"$P_\\mathrm{mut}=\""
     ],
     "language": "python",
     "metadata": {
      "internals": {
       "frag_helper": "fragment_end",
       "frag_number": 81
      },
      "slideshow": {
       "slide_type": "-"
      }
     },
     "outputs": [],
     "prompt_number": 45
    },
    {
     "cell_type": "markdown",
     "metadata": {
      "internals": {
       "frag_helper": "fragment_end",
       "frag_number": 99
      },
      "slideshow": {
       "slide_type": "-"
      }
     },
     "source": [
      "We can now replicate this toolbox instance and then modify the mutation probabilities."
     ]
    },
    {
     "cell_type": "code",
     "collapsed": true,
     "input": [
      "mut_probs = (0.05, 0.15, 0.3)\n",
      "number_of_experiments = len(mut_probs)\n",
      "toolboxes=list([copy.copy(toolbox) for _ in range(number_of_experiments)])"
     ],
     "language": "python",
     "metadata": {
      "internals": {
       "frag_helper": "fragment_end",
       "frag_number": 99
      },
      "slideshow": {
       "slide_type": "-"
      }
     },
     "outputs": [],
     "prompt_number": 46
    },
    {
     "cell_type": "markdown",
     "metadata": {
      "internals": {
       "frag_helper": "fragment_end",
       "frag_number": 99,
       "slide_helper": "subslide_end"
      },
      "slide_helper": "slide_end",
      "slideshow": {
       "slide_type": "-"
      }
     },
     "source": [
      "Now `toolboxes` is a list of copies of the same toolbox. One for each experiment configuration (population size)."
     ]
    },
    {
     "cell_type": "markdown",
     "metadata": {
      "internals": {
       "frag_helper": "fragment_end",
       "frag_number": 99,
       "slide_type": "subslide"
      },
      "slideshow": {
       "slide_type": "slide"
      }
     },
     "source": [
      "...but we still have to set the population sizes in the elements of `toolboxes`."
     ]
    },
    {
     "cell_type": "code",
     "collapsed": false,
     "input": [
      "for i, toolbox in enumerate(toolboxes):\n",
      "    toolbox.mut_prob = mut_probs[i]\n",
      "    toolbox.experiment_name = toolbox.experiment_name + str(mut_probs[i]) +'$'"
     ],
     "language": "python",
     "metadata": {
      "internals": {
       "frag_helper": "fragment_end",
       "frag_number": 99
      },
      "slideshow": {
       "slide_type": "-"
      }
     },
     "outputs": [],
     "prompt_number": 47
    },
    {
     "cell_type": "code",
     "collapsed": false,
     "input": [
      "for toolbox in toolboxes:\n",
      "    print(toolbox.experiment_name, toolbox.mut_prob)"
     ],
     "language": "python",
     "metadata": {
      "internals": {
       "frag_helper": "fragment_end",
       "frag_number": 104,
       "slide_helper": "subslide_end"
      },
      "slide_helper": "slide_end",
      "slideshow": {
       "slide_type": "fragment"
      }
     },
     "outputs": [
      {
       "output_type": "stream",
       "stream": "stdout",
       "text": [
        "$P_\\mathrm{mut}=0.05$ 0.05\n",
        "$P_\\mathrm{mut}=0.15$ 0.15\n",
        "$P_\\mathrm{mut}=0.3$ 0.3\n"
       ]
      }
     ],
     "prompt_number": 48
    },
    {
     "cell_type": "markdown",
     "metadata": {
      "internals": {
       "frag_helper": "fragment_end",
       "frag_number": 104,
       "slide_type": "subslide"
      },
      "slideshow": {
       "slide_type": "slide"
      }
     },
     "source": [
      "## Experiment design\n",
      "\n",
      "As we are dealing with stochastic methods their results should be reported relying on an statistical analysis.\n",
      "\n",
      "* A given  experiment (a `toolbox` instance in our case) should be repeated a *sufficient* amount of times. \n",
      "* In theory, the more runs the better, but how much in enough? In practice, we could say that about *30* runs is enough.\n",
      "* The non-dominated fronts produced by each experiment run should be compared to each other. \n",
      "* We have seen in class that a number of *performance indicators*, like the *hypervolume*, *additive* and *multiplicative epsilon indicators*, among others, have been proposed for that task.\n",
      "* We can use statistical visualizations like [box plots](http://en.wikipedia.org/wiki/Box_plot) or [violin plots](http://en.wikipedia.org/wiki/Violin_plot) to make a visual assessment of the indicator values produced in each run.\n",
      "* We must apply a set of [statistical hypothesis tests](http://en.wikipedia.org/wiki/Statistical_hypothesis_testing) in order to reach an statistically valid judgment of the results of an algorithms. \n",
      "\n",
      "\n",
      "_Note_: I personally like the number [42](http://en.wikipedia.org/wiki/42_%28number%29) as it is the [answer to The Ultimate Question of Life, the Universe, and Everything](http://en.wikipedia.org/wiki/Phrases_from_The_Hitchhiker%27s_Guide_to_the_Galaxy#Answer_to_the_Ultimate_Question_of_Life.2C_the_Universe.2C_and_Everything_.2842.29)."
     ]
    },
    {
     "cell_type": "code",
     "collapsed": false,
     "input": [
      "number_of_runs = 42"
     ],
     "language": "python",
     "metadata": {
      "internals": {
       "frag_helper": "fragment_end",
       "frag_number": 104,
       "slide_helper": "subslide_end"
      },
      "slide_helper": "slide_end",
      "slideshow": {
       "slide_type": "-"
      }
     },
     "outputs": [],
     "prompt_number": 49
    },
    {
     "cell_type": "markdown",
     "metadata": {
      "internals": {
       "frag_helper": "fragment_end",
       "frag_number": 104,
       "slide_helper": "subslide_end",
       "slide_type": "subslide"
      },
      "slide_helper": "slide_end",
      "slideshow": {
       "slide_type": "slide"
      }
     },
     "source": [
      "### Running experiments in parallel \n",
      "As we are now solving more demanding problems it would be nice to make our algorithms to run in parallel and profit from modern multi-core CPUs. \n",
      "* In DEAP it is very simple to parallelize an algorithm (if it has been properly programmed) by providing a parallel `map()` function throu the `toolbox`.\n",
      "* Local parallelization can be achieved using Python's [`multiprocessing`](https://docs.python.org/2/library/multiprocessing.html) or [`concurrent.futures`](https://docs.python.org/3/library/concurrent.futures.html) modules.\n",
      "* Cluster parallelization can be achived using IPython Parallel or [SCOOP](http://en.wikipedia.org/wiki/Python_SCOOP_%28software%29), that seems to be recommended by the DEAP guys as it was part of it.\n",
      "\n",
      "*Note*: While preparing this notebook I why process-based parallelization is much faster than thread-based parallelization. You can have a very good summary about this in http://blog.liang2.tw/2014-handy-dist-computing/."
     ]
    },
    {
     "cell_type": "markdown",
     "metadata": {
      "internals": {
       "frag_helper": "fragment_end",
       "frag_number": 104,
       "slide_type": "subslide"
      },
      "slideshow": {
       "slide_type": "slide"
      }
     },
     "source": [
      "### Progress feedback\n",
      "* Another issue with these long experiments has to do being patient.\n",
      "* A little bit of feedback on the experiment execution would be cool.\n",
      "* We can use the integer progress bar from [IPython widgets](http://nbviewer.ipython.org/github/jvns/ipython/blob/master/examples/Interactive%20Widgets/Index.ipynb) and report every time an experiment run is finished."
     ]
    },
    {
     "cell_type": "code",
     "collapsed": false,
     "input": [
      "from IPython.html import widgets\n",
      "from IPython.display import display"
     ],
     "language": "python",
     "metadata": {
      "internals": {
       "frag_helper": "fragment_end",
       "frag_number": 104
      },
      "slideshow": {
       "slide_type": "-"
      }
     },
     "outputs": [],
     "prompt_number": 50
    },
    {
     "cell_type": "code",
     "collapsed": false,
     "input": [
      "progress_bar = widgets.IntProgressWidget(description=\"Starting...\", \n",
      "                                         max=len(toolboxes)*number_of_runs)"
     ],
     "language": "python",
     "metadata": {
      "internals": {
       "frag_helper": "fragment_end",
       "frag_number": 104,
       "slide_helper": "subslide_end"
      },
      "slide_helper": "slide_end",
      "slideshow": {
       "slide_type": "-"
      }
     },
     "outputs": [],
     "prompt_number": 51
    },
    {
     "cell_type": "markdown",
     "metadata": {
      "internals": {
       "frag_helper": "fragment_end",
       "frag_number": 104,
       "slide_type": "subslide"
      },
      "slideshow": {
       "slide_type": "slide"
      }
     },
     "source": [
      "### A side-effect of using process-based parallelization\n",
      "\n",
      "Process-based parallelization based on `multiprocessing` requires that the parameters passed to `map()` be [pickleable](https://docs.python.org/3.4/library/pickle.html). \n",
      "* The direct consequence is that `lambda` functions can not be directly used. \n",
      "* This is will certainly ruin the party to all `lambda` fans out there! *-me included*.\n",
      "* Hence we need to write some wrapper functions instead.\n",
      "* But, that wrapper function can take care of filtering out dominated individuals in the results."
     ]
    },
    {
     "cell_type": "code",
     "collapsed": false,
     "input": [
      "def run_algo_wrapper(toolboox):\n",
      "    result,a = nsga_ii(toolbox)\n",
      "    pareto_sets = tools.emo.sortLogNondominated(result, len(result))\n",
      "    return pareto_sets[0]"
     ],
     "language": "python",
     "metadata": {
      "internals": {
       "frag_helper": "fragment_end",
       "frag_number": 104,
       "slide_helper": "subslide_end"
      },
      "slide_helper": "slide_end",
      "slideshow": {
       "slide_type": "-"
      }
     },
     "outputs": [],
     "prompt_number": 52
    },
    {
     "cell_type": "markdown",
     "metadata": {
      "internals": {
       "frag_helper": "fragment_end",
       "frag_number": 104,
       "slide_helper": "subslide_end",
       "slide_type": "subslide"
      },
      "slide_helper": "slide_end",
      "slideshow": {
       "slide_type": "slide"
      }
     },
     "source": [
      "<div class=\"alert alert-info\" role=\"alert\">\n",
      "Ideally, I would had ran this code at this point, but it is not working. Sometimes the `for future in...` loop never ends. I don't have much time to look into it, but if you have any idea I would appreciate it.  \n",
      "</div>\n",
      "\n",
      "```python\n",
      "%%time\n",
      "import concurrent.futures\n",
      "display(progress_bar)\n",
      "\n",
      "results = {toolbox.experiment_name:[] for toolbox in toolboxes}\n",
      "with concurrent.futures.ProcessPoolExecutor() as executor:\n",
      "    # Submit all the tasks...\n",
      "    futures = {executor.submit(run_algo_wrapper, toolbox): toolbox\n",
      "               for _ in range(number_of_runs)\n",
      "               for toolbox in toolboxes}\n",
      "    \n",
      "    # ...and wait for them to finish.\n",
      "    for future in concurrent.futures.as_completed(futures):\n",
      "        tb = futures[future]\n",
      "        results[tb.experiment_name].append(future.result())\n",
      "        progress_bar.value +=1\n",
      "        progress_bar.description = \"Finished %03d of %03d:\" % (progress_bar.value, progress_bar.max)\n",
      "```"
     ]
    },
    {
     "cell_type": "markdown",
     "metadata": {
      "internals": {
       "frag_helper": "fragment_end",
       "frag_number": 104,
       "slide_type": "subslide"
      },
      "slideshow": {
       "slide_type": "slide"
      }
     },
     "source": [
      "# All set! Run the experiments..."
     ]
    },
    {
     "cell_type": "markdown",
     "metadata": {
      "internals": {
       "frag_helper": "fragment_end",
       "frag_number": 104
      },
      "slideshow": {
       "slide_type": "-"
      }
     },
     "source": [
      "This is not a perfect implementation but... works!"
     ]
    },
    {
     "cell_type": "code",
     "collapsed": false,
     "input": [
      "%%time\n",
      "from multiprocessing import Pool\n",
      "display(progress_bar)\n",
      "\n",
      "results = {}\n",
      "pool = Pool()\n",
      "for toolbox in toolboxes:\n",
      "    results[toolbox.experiment_name] = pool.map(run_algo_wrapper, [toolbox] * number_of_runs)\n",
      "    progress_bar.value +=number_of_runs\n",
      "    progress_bar.description = \"Finished %03d of %03d:\" % (progress_bar.value, progress_bar.max)"
     ],
     "language": "python",
     "metadata": {
      "internals": {
       "frag_helper": "fragment_end",
       "frag_number": 104,
       "slide_helper": "subslide_end"
      },
      "slide_helper": "slide_end",
      "slideshow": {
       "slide_type": "-"
      }
     },
     "outputs": [
      {
       "output_type": "stream",
       "stream": "stdout",
       "text": [
        "CPU times: user 3.2 s, sys: 781 ms, total: 3.98 s\n",
        "Wall time: 1h 31min 9s\n"
       ]
      }
     ],
     "prompt_number": 53
    },
    {
     "cell_type": "markdown",
     "metadata": {
      "internals": {
       "frag_helper": "fragment_end",
       "frag_number": 104,
       "slide_type": "subslide"
      },
      "slideshow": {
       "slide_type": "slide"
      }
     },
     "source": [
      "As you can see, even this relatively small experiment took lots of time!"
     ]
    },
    {
     "cell_type": "markdown",
     "metadata": {
      "internals": {
       "frag_helper": "fragment_end",
       "frag_number": 104
      },
      "slideshow": {
       "slide_type": "-"
      }
     },
     "source": [
      "As running the experiments takes so long, lets save the results so we can use them whenever we want."
     ]
    },
    {
     "cell_type": "code",
     "collapsed": false,
     "input": [
      "import pickle"
     ],
     "language": "python",
     "metadata": {
      "internals": {
       "frag_helper": "fragment_end",
       "frag_number": 104
      },
      "slideshow": {
       "slide_type": "-"
      }
     },
     "outputs": [],
     "prompt_number": 54
    },
    {
     "cell_type": "code",
     "collapsed": false,
     "input": [
      "pickle.dump(results, open('nsga_ii_dtlz3-results.pickle', 'wb'), \n",
      "            pickle.HIGHEST_PROTOCOL)"
     ],
     "language": "python",
     "metadata": {
      "internals": {
       "frag_helper": "fragment_end",
       "frag_number": 104
      },
      "slideshow": {
       "slide_type": "-"
      }
     },
     "outputs": [],
     "prompt_number": 55
    },
    {
     "cell_type": "markdown",
     "metadata": {
      "internals": {
       "frag_helper": "fragment_end",
       "frag_number": 121
      },
      "slideshow": {
       "slide_type": "fragment"
      }
     },
     "source": [
      "In case you need it, this file is included in the github repository.\n",
      "\n",
      "To load the results we would just have to:"
     ]
    },
    {
     "cell_type": "code",
     "collapsed": false,
     "input": [
      "loaded_results = pickle.load(open('nsga_ii_dtlz3-results.pickle', 'rb'))\n",
      "#results = loaded_results # <-- uncomment if needed"
     ],
     "language": "python",
     "metadata": {
      "internals": {
       "frag_helper": "fragment_end",
       "frag_number": 121,
       "slide_helper": "subslide_end"
      },
      "slide_helper": "slide_end",
      "slideshow": {
       "slide_type": "-"
      }
     },
     "outputs": [],
     "prompt_number": 56
    },
    {
     "cell_type": "markdown",
     "metadata": {
      "internals": {
       "frag_helper": "fragment_end",
       "frag_number": 121,
       "slide_type": "subslide"
      },
      "slideshow": {
       "slide_type": "slide"
      }
     },
     "source": [
      "`results` is a dictionary, but a pandas `DataFrame` is a more handy container for the results."
     ]
    },
    {
     "cell_type": "code",
     "collapsed": false,
     "input": [
      "res = pd.DataFrame(loaded_results)"
     ],
     "language": "python",
     "metadata": {
      "internals": {
       "frag_helper": "fragment_end",
       "frag_number": 121,
       "slide_helper": "subslide_end"
      },
      "slide_helper": "slide_end",
      "slideshow": {
       "slide_type": "-"
      }
     },
     "outputs": [],
     "prompt_number": 57
    },
    {
     "cell_type": "markdown",
     "metadata": {
      "internals": {
       "frag_helper": "fragment_end",
       "frag_number": 121,
       "slide_type": "subslide"
      },
      "slideshow": {
       "slide_type": "slide"
      }
     },
     "source": [
      "Headers may come out unsorted. Let's fix that first. "
     ]
    },
    {
     "cell_type": "code",
     "collapsed": false,
     "input": [
      "res.head()"
     ],
     "language": "python",
     "metadata": {
      "internals": {
       "frag_helper": "fragment_end",
       "frag_number": 121,
       "slide_helper": "subslide_end"
      },
      "slide_helper": "subslide_end",
      "slideshow": {
       "slide_type": "-"
      }
     },
     "outputs": [
      {
       "html": [
        "<div style=\"max-height:1000px;max-width:1500px;overflow:auto;\">\n",
        "<table border=\"1\" class=\"dataframe\">\n",
        "  <thead>\n",
        "    <tr style=\"text-align: right;\">\n",
        "      <th></th>\n",
        "      <th>$P_\\mathrm{mut}=0.05$</th>\n",
        "      <th>$P_\\mathrm{mut}=0.15$</th>\n",
        "      <th>$P_\\mathrm{mut}=0.3$</th>\n",
        "    </tr>\n",
        "  </thead>\n",
        "  <tbody>\n",
        "    <tr>\n",
        "      <th>0</th>\n",
        "      <td> [[1.0, 0.5000269727348605, 0.4999616400061205,...</td>\n",
        "      <td> [[0.9999999999999867, 0.4001150913352416, 0.40...</td>\n",
        "      <td> [[0.9999999999999996, 0.5000103341990221, 0.59...</td>\n",
        "    </tr>\n",
        "    <tr>\n",
        "      <th>1</th>\n",
        "      <td> [[0.9999999999999996, 0.5000347245740564, 0.50...</td>\n",
        "      <td> [[0.9999999999999994, 0.3000864089066496, 0.50...</td>\n",
        "      <td> [[0.9999999999999021, 0.4004161957652541, 0.49...</td>\n",
        "    </tr>\n",
        "    <tr>\n",
        "      <th>2</th>\n",
        "      <td> [[0.999999999813255, 0.5999721288215643, 0.499...</td>\n",
        "      <td> [[0.9999999999999981, 0.4995172500410508, 0.49...</td>\n",
        "      <td> [[0.9999999999999997, 0.4001590675284601, 0.50...</td>\n",
        "    </tr>\n",
        "    <tr>\n",
        "      <th>3</th>\n",
        "      <td> [[0.9999999998399098, 0.4998310912965175, 0.49...</td>\n",
        "      <td> [[0.9999999999415495, 0.5000078089803229, 0.39...</td>\n",
        "      <td> [[0.9999999999999546, 0.5000090989133338, 0.39...</td>\n",
        "    </tr>\n",
        "    <tr>\n",
        "      <th>4</th>\n",
        "      <td> [[0.9999999999999997, 0.5011132736209546, 0.50...</td>\n",
        "      <td> [[0.9999999999997499, 0.50003632075969, 0.5001...</td>\n",
        "      <td> [[1.0, 0.49942156718161346, 0.4998754336732803...</td>\n",
        "    </tr>\n",
        "  </tbody>\n",
        "</table>\n",
        "</div>"
       ],
       "metadata": {},
       "output_type": "pyout",
       "prompt_number": 58,
       "text": [
        "                               $P_\\mathrm{mut}=0.05$  \\\n",
        "0  [[1.0, 0.5000269727348605, 0.4999616400061205,...   \n",
        "1  [[0.9999999999999996, 0.5000347245740564, 0.50...   \n",
        "2  [[0.999999999813255, 0.5999721288215643, 0.499...   \n",
        "3  [[0.9999999998399098, 0.4998310912965175, 0.49...   \n",
        "4  [[0.9999999999999997, 0.5011132736209546, 0.50...   \n",
        "\n",
        "                               $P_\\mathrm{mut}=0.15$  \\\n",
        "0  [[0.9999999999999867, 0.4001150913352416, 0.40...   \n",
        "1  [[0.9999999999999994, 0.3000864089066496, 0.50...   \n",
        "2  [[0.9999999999999981, 0.4995172500410508, 0.49...   \n",
        "3  [[0.9999999999415495, 0.5000078089803229, 0.39...   \n",
        "4  [[0.9999999999997499, 0.50003632075969, 0.5001...   \n",
        "\n",
        "                                $P_\\mathrm{mut}=0.3$  \n",
        "0  [[0.9999999999999996, 0.5000103341990221, 0.59...  \n",
        "1  [[0.9999999999999021, 0.4004161957652541, 0.49...  \n",
        "2  [[0.9999999999999997, 0.4001590675284601, 0.50...  \n",
        "3  [[0.9999999999999546, 0.5000090989133338, 0.39...  \n",
        "4  [[1.0, 0.49942156718161346, 0.4998754336732803...  "
       ]
      }
     ],
     "prompt_number": 58
    },
    {
     "cell_type": "code",
     "collapsed": false,
     "input": [
      "res = res.reindex_axis([toolbox.experiment_name for toolbox in toolboxes], axis=1)"
     ],
     "language": "python",
     "metadata": {
      "internals": {
       "frag_helper": "fragment_end",
       "frag_number": 121,
       "slide_type": "subslide"
      },
      "slideshow": {
       "slide_type": "subslide"
      }
     },
     "outputs": [],
     "prompt_number": 59
    },
    {
     "cell_type": "code",
     "collapsed": false,
     "input": [
      "res.head()"
     ],
     "language": "python",
     "metadata": {
      "internals": {
       "frag_helper": "fragment_end",
       "frag_number": 121,
       "slide_helper": "subslide_end"
      },
      "slide_helper": "slide_end",
      "slideshow": {
       "slide_type": "-"
      }
     },
     "outputs": [
      {
       "html": [
        "<div style=\"max-height:1000px;max-width:1500px;overflow:auto;\">\n",
        "<table border=\"1\" class=\"dataframe\">\n",
        "  <thead>\n",
        "    <tr style=\"text-align: right;\">\n",
        "      <th></th>\n",
        "      <th>$P_\\mathrm{mut}=0.05$</th>\n",
        "      <th>$P_\\mathrm{mut}=0.15$</th>\n",
        "      <th>$P_\\mathrm{mut}=0.3$</th>\n",
        "    </tr>\n",
        "  </thead>\n",
        "  <tbody>\n",
        "    <tr>\n",
        "      <th>0</th>\n",
        "      <td> [[1.0, 0.5000269727348605, 0.4999616400061205,...</td>\n",
        "      <td> [[0.9999999999999867, 0.4001150913352416, 0.40...</td>\n",
        "      <td> [[0.9999999999999996, 0.5000103341990221, 0.59...</td>\n",
        "    </tr>\n",
        "    <tr>\n",
        "      <th>1</th>\n",
        "      <td> [[0.9999999999999996, 0.5000347245740564, 0.50...</td>\n",
        "      <td> [[0.9999999999999994, 0.3000864089066496, 0.50...</td>\n",
        "      <td> [[0.9999999999999021, 0.4004161957652541, 0.49...</td>\n",
        "    </tr>\n",
        "    <tr>\n",
        "      <th>2</th>\n",
        "      <td> [[0.999999999813255, 0.5999721288215643, 0.499...</td>\n",
        "      <td> [[0.9999999999999981, 0.4995172500410508, 0.49...</td>\n",
        "      <td> [[0.9999999999999997, 0.4001590675284601, 0.50...</td>\n",
        "    </tr>\n",
        "    <tr>\n",
        "      <th>3</th>\n",
        "      <td> [[0.9999999998399098, 0.4998310912965175, 0.49...</td>\n",
        "      <td> [[0.9999999999415495, 0.5000078089803229, 0.39...</td>\n",
        "      <td> [[0.9999999999999546, 0.5000090989133338, 0.39...</td>\n",
        "    </tr>\n",
        "    <tr>\n",
        "      <th>4</th>\n",
        "      <td> [[0.9999999999999997, 0.5011132736209546, 0.50...</td>\n",
        "      <td> [[0.9999999999997499, 0.50003632075969, 0.5001...</td>\n",
        "      <td> [[1.0, 0.49942156718161346, 0.4998754336732803...</td>\n",
        "    </tr>\n",
        "  </tbody>\n",
        "</table>\n",
        "</div>"
       ],
       "metadata": {},
       "output_type": "pyout",
       "prompt_number": 60,
       "text": [
        "                               $P_\\mathrm{mut}=0.05$  \\\n",
        "0  [[1.0, 0.5000269727348605, 0.4999616400061205,...   \n",
        "1  [[0.9999999999999996, 0.5000347245740564, 0.50...   \n",
        "2  [[0.999999999813255, 0.5999721288215643, 0.499...   \n",
        "3  [[0.9999999998399098, 0.4998310912965175, 0.49...   \n",
        "4  [[0.9999999999999997, 0.5011132736209546, 0.50...   \n",
        "\n",
        "                               $P_\\mathrm{mut}=0.15$  \\\n",
        "0  [[0.9999999999999867, 0.4001150913352416, 0.40...   \n",
        "1  [[0.9999999999999994, 0.3000864089066496, 0.50...   \n",
        "2  [[0.9999999999999981, 0.4995172500410508, 0.49...   \n",
        "3  [[0.9999999999415495, 0.5000078089803229, 0.39...   \n",
        "4  [[0.9999999999997499, 0.50003632075969, 0.5001...   \n",
        "\n",
        "                                $P_\\mathrm{mut}=0.3$  \n",
        "0  [[0.9999999999999996, 0.5000103341990221, 0.59...  \n",
        "1  [[0.9999999999999021, 0.4004161957652541, 0.49...  \n",
        "2  [[0.9999999999999997, 0.4001590675284601, 0.50...  \n",
        "3  [[0.9999999999999546, 0.5000090989133338, 0.39...  \n",
        "4  [[1.0, 0.49942156718161346, 0.4998754336732803...  "
       ]
      }
     ],
     "prompt_number": 60
    },
    {
     "cell_type": "markdown",
     "metadata": {
      "internals": {
       "frag_helper": "fragment_end",
       "frag_number": 121,
       "slide_type": "subslide"
      },
      "slideshow": {
       "slide_type": "slide"
      }
     },
     "source": [
      "## A first glace at the results"
     ]
    },
    {
     "cell_type": "code",
     "collapsed": false,
     "input": [
      "a = res.applymap(lambda pop: [toolbox.evaluate(ind) for ind in pop])\n",
      "plt.figure(figsize=(15,3))\n",
      "for i, col in enumerate(a.columns):\n",
      "    plt.subplot(1,len(a.columns), i+1)\n",
      "    for pop in a[col]:\n",
      "        x = pd.DataFrame(data= pop)\n",
      "        plt.scatter(x[0], x[1], alpha=0.5)\n",
      "    plt.title(col)   "
     ],
     "language": "python",
     "metadata": {
      "internals": {
       "frag_helper": "fragment_end",
       "frag_number": 121
      },
      "slideshow": {
       "slide_type": "-"
      }
     },
     "outputs": [
      {
       "metadata": {},
       "output_type": "display_data",
       "png": "[encoded data removed]",
       "text": [
        "<matplotlib.figure.Figure at 0x1134c7c18>"
       ]
      }
     ],
     "prompt_number": 61
    },
    {
     "cell_type": "markdown",
     "metadata": {
      "internals": {
       "frag_helper": "fragment_end",
       "frag_number": 121,
       "slide_helper": "subslide_end"
      },
      "slide_helper": "slide_end",
      "slideshow": {
       "slide_type": "-"
      }
     },
     "source": [
      "The local Pareto-optimal fronts are clearly visible!"
     ]
    },
    {
     "cell_type": "markdown",
     "metadata": {
      "internals": {
       "frag_helper": "fragment_end",
       "frag_number": 121,
       "slide_helper": "subslide_end",
       "slide_type": "subslide"
      },
      "slide_helper": "slide_end",
      "slideshow": {
       "slide_type": "slide"
      }
     },
     "source": [
      "## Calculating performance indicators\n",
      "\n",
      "* As already mentioned, we need to evaluate the quality of the solutions produced in every execution of the algorithm. \n",
      "* We will use the hypervolumne indicator for that.\n",
      "* We already filtered each population a leave only the non-dominated individuals."
     ]
    },
    {
     "cell_type": "markdown",
     "metadata": {
      "internals": {
       "frag_helper": "fragment_end",
       "frag_number": 121,
       "slide_type": "subslide"
      },
      "slideshow": {
       "slide_type": "slide"
      }
     },
     "source": [
      "Calculating *nadir point*: an individual that is \u201cworse\u201d than any other individual in each of the objectives."
     ]
    },
    {
     "cell_type": "code",
     "collapsed": false,
     "input": [
      "def calculate_nadir(results):\n",
      "    alldata = np.concatenate(np.concatenate(results.values))\n",
      "    obj_vals = [toolbox.evaluate(ind) for ind in alldata]\n",
      "    return np.max(obj_vals, axis=0)"
     ],
     "language": "python",
     "metadata": {
      "internals": {
       "frag_helper": "fragment_end",
       "frag_number": 121
      },
      "slideshow": {
       "slide_type": "-"
      }
     },
     "outputs": [],
     "prompt_number": 62
    },
    {
     "cell_type": "code",
     "collapsed": false,
     "input": [
      "nadir = calculate_nadir(res)"
     ],
     "language": "python",
     "metadata": {
      "internals": {
       "frag_helper": "fragment_end",
       "frag_number": 135
      },
      "slideshow": {
       "slide_type": "fragment"
      }
     },
     "outputs": [],
     "prompt_number": 63
    },
    {
     "cell_type": "code",
     "collapsed": false,
     "input": [
      "nadir"
     ],
     "language": "python",
     "metadata": {
      "internals": {
       "frag_helper": "fragment_end",
       "frag_number": 135,
       "slide_helper": "subslide_end"
      },
      "slide_helper": "slide_end",
      "slideshow": {
       "slide_type": "-"
      }
     },
     "outputs": [
      {
       "metadata": {},
       "output_type": "pyout",
       "prompt_number": 64,
       "text": [
        "array([ 24.1078374 ,  23.24556811])"
       ]
      }
     ],
     "prompt_number": 64
    },
    {
     "cell_type": "markdown",
     "metadata": {
      "internals": {
       "frag_helper": "fragment_end",
       "frag_number": 135,
       "slide_type": "subslide"
      },
      "slideshow": {
       "slide_type": "slide"
      }
     },
     "source": [
      "We can now compute the hypervolume of the Pareto-optimal fronts yielded by each algorithm run."
     ]
    },
    {
     "cell_type": "code",
     "collapsed": false,
     "input": [
      "import deap.benchmarks.tools as bt"
     ],
     "language": "python",
     "metadata": {
      "internals": {
       "frag_helper": "fragment_end",
       "frag_number": 135
      },
      "slideshow": {
       "slide_type": "-"
      }
     },
     "outputs": [],
     "prompt_number": 65
    },
    {
     "cell_type": "code",
     "collapsed": false,
     "input": [
      "hypervols = res.applymap(lambda pop: bt.hypervolume(pop, nadir))"
     ],
     "language": "python",
     "metadata": {
      "internals": {
       "frag_helper": "fragment_end",
       "frag_number": 135
      },
      "slideshow": {
       "slide_type": "-"
      }
     },
     "outputs": [],
     "prompt_number": 66
    },
    {
     "cell_type": "code",
     "collapsed": false,
     "input": [
      "hypervols.head()"
     ],
     "language": "python",
     "metadata": {
      "internals": {
       "frag_helper": "fragment_end",
       "frag_number": 140,
       "slide_helper": "subslide_end"
      },
      "slide_helper": "slide_end",
      "slideshow": {
       "slide_type": "fragment"
      }
     },
     "outputs": [
      {
       "html": [
        "<div style=\"max-height:1000px;max-width:1500px;overflow:auto;\">\n",
        "<table border=\"1\" class=\"dataframe\">\n",
        "  <thead>\n",
        "    <tr style=\"text-align: right;\">\n",
        "      <th></th>\n",
        "      <th>$P_\\mathrm{mut}=0.05$</th>\n",
        "      <th>$P_\\mathrm{mut}=0.15$</th>\n",
        "      <th>$P_\\mathrm{mut}=0.3$</th>\n",
        "    </tr>\n",
        "  </thead>\n",
        "  <tbody>\n",
        "    <tr>\n",
        "      <th>0</th>\n",
        "      <td> 479.299366</td>\n",
        "      <td> 471.090265</td>\n",
        "      <td> 462.265758</td>\n",
        "    </tr>\n",
        "    <tr>\n",
        "      <th>1</th>\n",
        "      <td> 465.688953</td>\n",
        "      <td> 444.166523</td>\n",
        "      <td> 500.285145</td>\n",
        "    </tr>\n",
        "    <tr>\n",
        "      <th>2</th>\n",
        "      <td> 493.253702</td>\n",
        "      <td> 538.765728</td>\n",
        "      <td> 461.301381</td>\n",
        "    </tr>\n",
        "    <tr>\n",
        "      <th>3</th>\n",
        "      <td> 493.875035</td>\n",
        "      <td> 452.831973</td>\n",
        "      <td> 506.646024</td>\n",
        "    </tr>\n",
        "    <tr>\n",
        "      <th>4</th>\n",
        "      <td> 491.986397</td>\n",
        "      <td> 532.318474</td>\n",
        "      <td> 417.450301</td>\n",
        "    </tr>\n",
        "  </tbody>\n",
        "</table>\n",
        "</div>"
       ],
       "metadata": {},
       "output_type": "pyout",
       "prompt_number": 67,
       "text": [
        "   $P_\\mathrm{mut}=0.05$  $P_\\mathrm{mut}=0.15$  $P_\\mathrm{mut}=0.3$\n",
        "0             479.299366             471.090265            462.265758\n",
        "1             465.688953             444.166523            500.285145\n",
        "2             493.253702             538.765728            461.301381\n",
        "3             493.875035             452.831973            506.646024\n",
        "4             491.986397             532.318474            417.450301"
       ]
      }
     ],
     "prompt_number": 67
    },
    {
     "cell_type": "markdown",
     "metadata": {
      "internals": {
       "frag_helper": "fragment_end",
       "frag_number": 140,
       "slide_type": "subslide"
      },
      "slideshow": {
       "slide_type": "slide"
      }
     },
     "source": [
      "##\u00a0How can we interpret the indicators?"
     ]
    },
    {
     "cell_type": "markdown",
     "metadata": {
      "internals": {
       "frag_helper": "fragment_end",
       "frag_number": 142
      },
      "slideshow": {
       "slide_type": "fragment"
      }
     },
     "source": [
      "###\u00a0Option A: Tabular form"
     ]
    },
    {
     "cell_type": "code",
     "collapsed": false,
     "input": [
      "hypervols.describe()"
     ],
     "language": "python",
     "metadata": {
      "internals": {
       "frag_helper": "fragment_end",
       "frag_number": 142,
       "slide_helper": "subslide_end"
      },
      "slide_helper": "slide_end",
      "slideshow": {
       "slide_type": "-"
      }
     },
     "outputs": [
      {
       "html": [
        "<div style=\"max-height:1000px;max-width:1500px;overflow:auto;\">\n",
        "<table border=\"1\" class=\"dataframe\">\n",
        "  <thead>\n",
        "    <tr style=\"text-align: right;\">\n",
        "      <th></th>\n",
        "      <th>$P_\\mathrm{mut}=0.05$</th>\n",
        "      <th>$P_\\mathrm{mut}=0.15$</th>\n",
        "      <th>$P_\\mathrm{mut}=0.3$</th>\n",
        "    </tr>\n",
        "  </thead>\n",
        "  <tbody>\n",
        "    <tr>\n",
        "      <th>count</th>\n",
        "      <td>  42.000000</td>\n",
        "      <td>  42.000000</td>\n",
        "      <td>  42.000000</td>\n",
        "    </tr>\n",
        "    <tr>\n",
        "      <th>mean</th>\n",
        "      <td> 462.425110</td>\n",
        "      <td> 444.683926</td>\n",
        "      <td> 457.372139</td>\n",
        "    </tr>\n",
        "    <tr>\n",
        "      <th>std</th>\n",
        "      <td>  85.074852</td>\n",
        "      <td>  67.852181</td>\n",
        "      <td>  68.171960</td>\n",
        "    </tr>\n",
        "    <tr>\n",
        "      <th>min</th>\n",
        "      <td> 211.210104</td>\n",
        "      <td> 261.538491</td>\n",
        "      <td> 136.654403</td>\n",
        "    </tr>\n",
        "    <tr>\n",
        "      <th>25%</th>\n",
        "      <td> 446.959790</td>\n",
        "      <td> 407.811816</td>\n",
        "      <td> 437.208398</td>\n",
        "    </tr>\n",
        "    <tr>\n",
        "      <th>50%</th>\n",
        "      <td> 493.564368</td>\n",
        "      <td> 449.807904</td>\n",
        "      <td> 462.348260</td>\n",
        "    </tr>\n",
        "    <tr>\n",
        "      <th>75%</th>\n",
        "      <td> 515.485198</td>\n",
        "      <td> 495.389646</td>\n",
        "      <td> 496.541831</td>\n",
        "    </tr>\n",
        "    <tr>\n",
        "      <th>max</th>\n",
        "      <td> 552.279112</td>\n",
        "      <td> 539.961884</td>\n",
        "      <td> 546.582980</td>\n",
        "    </tr>\n",
        "  </tbody>\n",
        "</table>\n",
        "</div>"
       ],
       "metadata": {},
       "output_type": "pyout",
       "prompt_number": 68,
       "text": [
        "       $P_\\mathrm{mut}=0.05$  $P_\\mathrm{mut}=0.15$  $P_\\mathrm{mut}=0.3$\n",
        "count              42.000000              42.000000             42.000000\n",
        "mean              462.425110             444.683926            457.372139\n",
        "std                85.074852              67.852181             68.171960\n",
        "min               211.210104             261.538491            136.654403\n",
        "25%               446.959790             407.811816            437.208398\n",
        "50%               493.564368             449.807904            462.348260\n",
        "75%               515.485198             495.389646            496.541831\n",
        "max               552.279112             539.961884            546.582980"
       ]
      }
     ],
     "prompt_number": 68
    },
    {
     "cell_type": "markdown",
     "metadata": {
      "internals": {
       "frag_helper": "fragment_end",
       "frag_number": 142,
       "slide_type": "subslide"
      },
      "slideshow": {
       "slide_type": "slide"
      }
     },
     "source": [
      "###\u00a0Option B: Visualization"
     ]
    },
    {
     "cell_type": "code",
     "collapsed": false,
     "input": [
      "fig = plt.figure(figsize=(15,3))\n",
      "plt.subplot(1,2,1, title='Violin plots of NSGA-II with $P_{\\mathrm{mut}}$')\n",
      "seaborn.violinplot(hypervols, alpha=0.74)\n",
      "plt.ylabel('Hypervolume'); plt.xlabel('Mutation probabilities')\n",
      "plt.subplot(1,2,2, title='Box plots of NSGA-II with $P_{\\mathrm{mut}}$')\n",
      "seaborn.boxplot(hypervols, alpha=0.74)\n",
      "plt.ylabel('Hypervolume'); plt.xlabel('Mutation probabilities');"
     ],
     "language": "python",
     "metadata": {
      "internals": {
       "frag_helper": "fragment_end",
       "frag_number": 142,
       "slide_helper": "subslide_end"
      },
      "slide_helper": "slide_end",
      "slideshow": {
       "slide_type": "-"
      }
     },
     "outputs": [
      {
       "metadata": {},
       "output_type": "pyout",
       "prompt_number": 69,
       "text": [
        "<matplotlib.text.Text at 0x1173910f0>"
       ]
      },
      {
       "metadata": {},
       "output_type": "display_data",
       "png": "[encoded data removed]",
       "text": [
        "<matplotlib.figure.Figure at 0x116939f98>"
       ]
      }
     ],
     "prompt_number": 69
    },
    {
     "cell_type": "markdown",
     "metadata": {
      "internals": {
       "frag_helper": "fragment_end",
       "frag_number": 142,
       "slide_type": "subslide"
      },
      "slideshow": {
       "slide_type": "slide"
      }
     },
     "source": [
      "## Option C: Statistical hypothesis test"
     ]
    },
    {
     "cell_type": "markdown",
     "metadata": {
      "internals": {
       "frag_helper": "fragment_end",
       "frag_number": 142,
       "slide_helper": "subslide_end"
      },
      "slide_helper": "slide_end",
      "slideshow": {
       "slide_type": "-"
      }
     },
     "source": [
      "* Choosing the correct statistical test is essential to properly report the results.\n",
      "* [Nonparametric statistics](http://en.wikipedia.org/wiki/Nonparametric_statistics) can lend a helping hand.\n",
      "* [Parametric statistics](http://en.wikipedia.org/wiki/Parametric_statistics) could be a better choice in some cases. \n",
      "* Parametric statistics require that *all* data follow a known distribution (frequently a normal one).\n",
      "* Some tests -like the [normality test](http://en.wikipedia.org/wiki/Normality_test)- can be apply to verify that data meet the parametric stats requirements.\n",
      "* In my experience that is very unlikely that all your EMO result meet those characteristics."
     ]
    },
    {
     "cell_type": "markdown",
     "metadata": {
      "internals": {
       "frag_helper": "fragment_end",
       "frag_number": 142,
       "slide_type": "subslide"
      },
      "slideshow": {
       "slide_type": "slide"
      }
     },
     "source": [
      "We start by writing a function that helps us tabulate the results of the application of an statistical hypothesis test."
     ]
    },
    {
     "cell_type": "code",
     "collapsed": false,
     "input": [
      "import itertools\n",
      "import scipy.stats as stats"
     ],
     "language": "python",
     "metadata": {
      "internals": {
       "frag_helper": "fragment_end",
       "frag_number": 142
      },
      "slideshow": {
       "slide_type": "-"
      }
     },
     "outputs": [],
     "prompt_number": 70
    },
    {
     "cell_type": "code",
     "collapsed": false,
     "input": [
      "def compute_stat_matrix(data, stat_func, alpha=0.05):\n",
      "    '''A function that applies `stat_func` to all combinations of columns in `data`.\n",
      "    Returns a squared matrix with the p-values'''\n",
      "    p_values = pd.DataFrame(columns=data.columns, index=data.columns)\n",
      "    for a,b in itertools.combinations(data.columns,2):\n",
      "        s,p = stat_func(data[a], data[b]) \n",
      "        p_values[a].ix[b] = p\n",
      "        p_values[b].ix[a] = p\n",
      "    return p_values"
     ],
     "language": "python",
     "metadata": {
      "internals": {
       "frag_helper": "fragment_end",
       "frag_number": 142,
       "slide_helper": "subslide_end"
      },
      "slide_helper": "slide_end",
      "slideshow": {
       "slide_type": "-"
      }
     },
     "outputs": [],
     "prompt_number": 71
    },
    {
     "cell_type": "markdown",
     "metadata": {
      "internals": {
       "frag_helper": "fragment_end",
       "frag_number": 142,
       "slide_type": "subslide"
      },
      "slideshow": {
       "slide_type": "slide"
      }
     },
     "source": [
      "The [Kruskal-Wallis H-test](http://docs.scipy.org/doc/scipy-0.14.0/reference/generated/scipy.stats.kruskal.html) tests the null hypothesis that the population median of all of the groups are equal. \n",
      "* It is a non-parametric version of [ANOVA](http://en.wikipedia.org/wiki/Analysis_of_variance). \n",
      "* The test works on 2 or more independent samples, which may have different sizes. \n",
      "* Note that rejecting the null hypothesis does not indicate which of the groups differs. \n",
      "* Post-hoc comparisons between groups are required to determine which groups are different."
     ]
    },
    {
     "cell_type": "code",
     "collapsed": false,
     "input": [
      "stats.kruskal(*[hypervols[col] for col in hypervols.columns])"
     ],
     "language": "python",
     "metadata": {
      "internals": {
       "frag_helper": "fragment_end",
       "frag_number": 152
      },
      "slideshow": {
       "slide_type": "fragment"
      }
     },
     "outputs": [
      {
       "metadata": {},
       "output_type": "pyout",
       "prompt_number": 72,
       "text": [
        "(4.1170925062938863, 0.12763939044708175)"
       ]
      }
     ],
     "prompt_number": 72
    },
    {
     "cell_type": "markdown",
     "metadata": {
      "internals": {
       "frag_helper": "fragment_end",
       "frag_number": 152,
       "slide_helper": "subslide_end"
      },
      "slide_helper": "slide_end",
      "slideshow": {
       "slide_type": "-"
      }
     },
     "source": [
      "We now can assert that the results are not the same but which ones are different or similar to the others the others?"
     ]
    },
    {
     "cell_type": "markdown",
     "metadata": {
      "internals": {
       "frag_helper": "fragment_end",
       "frag_number": 152,
       "slide_helper": "subslide_end",
       "slide_type": "subslide"
      },
      "slide_helper": "slide_end",
      "slideshow": {
       "slide_type": "slide"
      }
     },
     "source": [
      "In case that the null hypothesis of the Kruskal-Wallis is rejected the Conover\u2013Inman procedure (Conover, 1999, pp. 288-290) can be applied in a pairwise manner in order to determine if the results of one algorithm were significantly better than those of the other.\n",
      "\n",
      "* Conover, W. J. (1999). *Practical Nonparametric Statistics*. John Wiley & Sons, New York, 3rd edition.\n",
      "\n",
      "*Note*: If you want to get an extended summary of this method check out my [PhD thesis](http://lmarti.com/pubs). "
     ]
    },
    {
     "cell_type": "code",
     "collapsed": false,
     "input": [
      "def conover_inman_procedure(data, alpha=0.05):\n",
      "    num_runs = len(data)\n",
      "    num_algos = len(data.columns)\n",
      "    N = num_runs*num_algos\n",
      "\n",
      "    _,p_value = stats.kruskal(*[data[col] for col in data.columns])\n",
      "    \n",
      "    ranked =  stats.rankdata(np.concatenate([data[col] for col in data.columns]))\n",
      "    \n",
      "    ranksums = []\n",
      "    for i in range(num_algos):\n",
      "        ranksums.append(np.sum(ranked[num_runs*i:num_runs*(i+1)]))\n",
      "\n",
      "    S_sq = (np.sum(ranked**2) - N*((N+1)**2)/4)/(N-1)\n",
      "\n",
      "    right_side = stats.t.cdf(1-(alpha/2), N-num_algos) * \\\n",
      "                 math.sqrt((S_sq*((N-1-p_value)/(N-1)))*2/num_runs)\n",
      "    \n",
      "    res = pd.DataFrame(columns=data.columns, index=data.columns)\n",
      "\n",
      "    for i,j in itertools.combinations(np.arange(num_algos),2):\n",
      "        res[res.columns[i]].ix[j] = abs(ranksums[i] - ranksums[j]/num_runs) > right_side\n",
      "        res[res.columns[j]].ix[i] = abs(ranksums[i] - ranksums[j]/num_runs) > right_side\n",
      "    return res"
     ],
     "language": "python",
     "metadata": {
      "internals": {
       "frag_helper": "fragment_end",
       "frag_number": 152,
       "slide_helper": "subslide_end",
       "slide_type": "subslide"
      },
      "slide_helper": "slide_end",
      "slideshow": {
       "slide_type": "slide"
      }
     },
     "outputs": [],
     "prompt_number": 73
    },
    {
     "cell_type": "code",
     "collapsed": false,
     "input": [
      "conover_inman_procedure(hypervols)"
     ],
     "language": "python",
     "metadata": {
      "internals": {
       "frag_helper": "fragment_end",
       "frag_number": 152,
       "slide_type": "subslide"
      },
      "slideshow": {
       "slide_type": "slide"
      }
     },
     "outputs": [
      {
       "html": [
        "<div style=\"max-height:1000px;max-width:1500px;overflow:auto;\">\n",
        "<table border=\"1\" class=\"dataframe\">\n",
        "  <thead>\n",
        "    <tr style=\"text-align: right;\">\n",
        "      <th></th>\n",
        "      <th>$P_\\mathrm{mut}=0.05$</th>\n",
        "      <th>$P_\\mathrm{mut}=0.15$</th>\n",
        "      <th>$P_\\mathrm{mut}=0.3$</th>\n",
        "    </tr>\n",
        "  </thead>\n",
        "  <tbody>\n",
        "    <tr>\n",
        "      <th>$P_\\mathrm{mut}=0.05$</th>\n",
        "      <td>  NaN</td>\n",
        "      <td> True</td>\n",
        "      <td> True</td>\n",
        "    </tr>\n",
        "    <tr>\n",
        "      <th>$P_\\mathrm{mut}=0.15$</th>\n",
        "      <td> True</td>\n",
        "      <td>  NaN</td>\n",
        "      <td> True</td>\n",
        "    </tr>\n",
        "    <tr>\n",
        "      <th>$P_\\mathrm{mut}=0.3$</th>\n",
        "      <td> True</td>\n",
        "      <td> True</td>\n",
        "      <td>  NaN</td>\n",
        "    </tr>\n",
        "  </tbody>\n",
        "</table>\n",
        "</div>"
       ],
       "metadata": {},
       "output_type": "pyout",
       "prompt_number": 74,
       "text": [
        "                      $P_\\mathrm{mut}=0.05$ $P_\\mathrm{mut}=0.15$  \\\n",
        "$P_\\mathrm{mut}=0.05$                   NaN                  True   \n",
        "$P_\\mathrm{mut}=0.15$                  True                   NaN   \n",
        "$P_\\mathrm{mut}=0.3$                   True                  True   \n",
        "\n",
        "                      $P_\\mathrm{mut}=0.3$  \n",
        "$P_\\mathrm{mut}=0.05$                 True  \n",
        "$P_\\mathrm{mut}=0.15$                 True  \n",
        "$P_\\mathrm{mut}=0.3$                   NaN  "
       ]
      }
     ],
     "prompt_number": 74
    },
    {
     "cell_type": "markdown",
     "metadata": {
      "internals": {
       "frag_helper": "fragment_end",
       "frag_number": 152,
       "slide_helper": "subslide_end"
      },
      "slide_helper": "slide_end",
      "slideshow": {
       "slide_type": "-"
      }
     },
     "source": [
      "We now know in what cases the difference is sufficient as to say that one result is better than the other."
     ]
    },
    {
     "cell_type": "markdown",
     "metadata": {
      "internals": {
       "frag_helper": "fragment_end",
       "frag_number": 152,
       "slide_type": "subslide"
      },
      "slideshow": {
       "slide_type": "slide"
      }
     },
     "source": [
      "Another alternative is the [Friedman test](http://en.wikipedia.org/wiki/Friedman_test).\n",
      "* Its null hypothesis that repeated measurements of the same individuals have the same distribution. \n",
      "* It is often used to test for consistency among measurements obtained in different ways. \n",
      "    * For example, if two measurement techniques are used on the same set of individuals, the Friedman test can be used to determine if the two measurement techniques are consistent."
     ]
    },
    {
     "cell_type": "code",
     "collapsed": false,
     "input": [
      "hyp_transp = hypervols.transpose()\n",
      "measurements = [list(hyp_transp[col]) for col in hyp_transp.columns]\n",
      "stats.friedmanchisquare(*measurements)"
     ],
     "language": "python",
     "metadata": {
      "internals": {
       "frag_helper": "fragment_end",
       "frag_number": 152,
       "slide_helper": "subslide_end"
      },
      "slide_helper": "slide_end",
      "slideshow": {
       "slide_type": "-"
      }
     },
     "outputs": [
      {
       "metadata": {},
       "output_type": "pyout",
       "prompt_number": 75,
       "text": [
        "(41.4318936877076, 0.45177834097859693)"
       ]
      }
     ],
     "prompt_number": 75
    },
    {
     "cell_type": "markdown",
     "metadata": {
      "internals": {
       "frag_helper": "fragment_end",
       "frag_number": 152,
       "slide_type": "subslide"
      },
      "slideshow": {
       "slide_type": "slide"
      }
     },
     "source": [
      "[Mann\u2013Whitney U test](http://en.wikipedia.org/wiki/Mann%E2%80%93Whitney_U_test) (also called the Mann\u2013Whitney\u2013Wilcoxon (MWW), Wilcoxon rank-sum test (WRS), or Wilcoxon\u2013Mann\u2013Whitney test) is a nonparametric test of the null hypothesis that two populations are the same against an alternative hypothesis, especially that a particular population tends to have larger values than the other.\n",
      "\n",
      "It has greater efficiency than the $t$-test on non-normal distributions, such as a mixture of normal distributions, and it is nearly as efficient as the t-test on normal distributions."
     ]
    },
    {
     "cell_type": "code",
     "collapsed": false,
     "input": [
      "raw_p_values=compute_stat_matrix(hypervols, stats.mannwhitneyu)\n",
      "raw_p_values"
     ],
     "language": "python",
     "metadata": {
      "internals": {
       "frag_helper": "fragment_end",
       "frag_number": 161,
       "slide_helper": "subslide_end"
      },
      "slide_helper": "slide_end",
      "slideshow": {
       "slide_type": "fragment"
      }
     },
     "outputs": [
      {
       "html": [
        "<div style=\"max-height:1000px;max-width:1500px;overflow:auto;\">\n",
        "<table border=\"1\" class=\"dataframe\">\n",
        "  <thead>\n",
        "    <tr style=\"text-align: right;\">\n",
        "      <th></th>\n",
        "      <th>$P_\\mathrm{mut}=0.05$</th>\n",
        "      <th>$P_\\mathrm{mut}=0.15$</th>\n",
        "      <th>$P_\\mathrm{mut}=0.3$</th>\n",
        "    </tr>\n",
        "  </thead>\n",
        "  <tbody>\n",
        "    <tr>\n",
        "      <th>$P_\\mathrm{mut}=0.05$</th>\n",
        "      <td>        NaN</td>\n",
        "      <td> 0.03572306</td>\n",
        "      <td> 0.08074789</td>\n",
        "    </tr>\n",
        "    <tr>\n",
        "      <th>$P_\\mathrm{mut}=0.15$</th>\n",
        "      <td> 0.03572306</td>\n",
        "      <td>        NaN</td>\n",
        "      <td>  0.1549628</td>\n",
        "    </tr>\n",
        "    <tr>\n",
        "      <th>$P_\\mathrm{mut}=0.3$</th>\n",
        "      <td> 0.08074789</td>\n",
        "      <td>  0.1549628</td>\n",
        "      <td>        NaN</td>\n",
        "    </tr>\n",
        "  </tbody>\n",
        "</table>\n",
        "</div>"
       ],
       "metadata": {},
       "output_type": "pyout",
       "prompt_number": 76,
       "text": [
        "                      $P_\\mathrm{mut}=0.05$ $P_\\mathrm{mut}=0.15$  \\\n",
        "$P_\\mathrm{mut}=0.05$                   NaN            0.03572306   \n",
        "$P_\\mathrm{mut}=0.15$            0.03572306                   NaN   \n",
        "$P_\\mathrm{mut}=0.3$             0.08074789             0.1549628   \n",
        "\n",
        "                      $P_\\mathrm{mut}=0.3$  \n",
        "$P_\\mathrm{mut}=0.05$           0.08074789  \n",
        "$P_\\mathrm{mut}=0.15$            0.1549628  \n",
        "$P_\\mathrm{mut}=0.3$                   NaN  "
       ]
      }
     ],
     "prompt_number": 76
    },
    {
     "cell_type": "markdown",
     "metadata": {
      "internals": {
       "frag_helper": "fragment_end",
       "frag_number": 161,
       "slide_helper": "subslide_end",
       "slide_type": "subslide"
      },
      "slide_helper": "slide_end",
      "slideshow": {
       "slide_type": "slide"
      }
     },
     "source": [
      "The [familywise error rate](http://en.wikipedia.org/wiki/Familywise_error_rate) (FWER) is the probability of making one or more false discoveries, or [type I errors](http://en.wikipedia.org/wiki/Type_I_and_type_II_errors), among all the hypotheses when performing multiple hypotheses tests.\n",
      "\n",
      "*Example*: When performing a test, there is a $\\alpha$ chance of making a type I error. If we make $m$ tests, then the probability of making one type I error is $m\\alpha$. Therefore, if an $\\alpha=0.05$ is used and 5 pairwise comparisons are made, we will have a $5\\times0.05 = 0.25$ chance of making a type I error.\n",
      "\n",
      "* FWER procedures (such as the [Bonferroni correction](http://en.wikipedia.org/wiki/Bonferroni_correction)) exert a more stringent control over false discovery compared to False discovery rate controlling procedures. \n",
      "* FWER controlling seek to reduce the probability of even one false discovery, as opposed to the expected proportion of false discoveries. \n",
      "* Thus, FDR procedures have greater power at the cost of increased rates of type I errors, i.e., rejecting the null hypothesis of no effect when it should be accepted."
     ]
    },
    {
     "cell_type": "markdown",
     "metadata": {
      "internals": {
       "frag_helper": "fragment_end",
       "frag_number": 161,
       "slide_type": "subslide"
      },
      "slideshow": {
       "slide_type": "slide"
      }
     },
     "source": [
      "One of these corrections is the [\u0160id\u00e1k correction](http://en.wikipedia.org/wiki/%C5%A0id%C3%A1k_correction) as it is less conservative than the [Bonferroni correction](http://en.wikipedia.org/wiki/Bonferroni_correction):\n",
      "$$\\alpha_{SID} = 1-(1-\\alpha)^\\frac{1}{m},$$\n",
      "where $m$ is the number of tests.\n",
      "\n",
      "* In our case $m$ is the number of combinations of algorithm configurations taken two at a time.\n",
      "\n",
      "* There are other corrections can be used."
     ]
    },
    {
     "cell_type": "code",
     "collapsed": false,
     "input": [
      "from scipy.misc import comb\n",
      "alpha=0.05\n",
      "alpha_sid = 1 - (1-alpha)**(1/comb(len(hypervols.columns), 2))\n",
      "print(alpha_sid)"
     ],
     "language": "python",
     "metadata": {
      "internals": {
       "frag_helper": "fragment_end",
       "frag_number": 161,
       "slide_helper": "subslide_end"
      },
      "slide_helper": "slide_end",
      "slideshow": {
       "slide_type": "-"
      }
     },
     "outputs": [
      {
       "output_type": "stream",
       "stream": "stdout",
       "text": [
        "0.0169524275084\n"
       ]
      }
     ],
     "prompt_number": 77
    },
    {
     "cell_type": "markdown",
     "metadata": {
      "internals": {
       "frag_helper": "fragment_end",
       "frag_number": 161,
       "slide_type": "subslide"
      },
      "slideshow": {
       "slide_type": "slide"
      }
     },
     "source": [
      "Let's apply the corrected alpha to `raw_p_values`. If we have a cell with a `True` value that means that those two results are the same."
     ]
    },
    {
     "cell_type": "code",
     "collapsed": false,
     "input": [
      "raw_p_values.applymap(lambda value: value <= alpha_sid)"
     ],
     "language": "python",
     "metadata": {
      "internals": {
       "frag_helper": "fragment_end",
       "frag_number": 161,
       "slide_helper": "subslide_end"
      },
      "slide_helper": "slide_end",
      "slideshow": {
       "slide_type": "-"
      }
     },
     "outputs": [
      {
       "html": [
        "<div style=\"max-height:1000px;max-width:1500px;overflow:auto;\">\n",
        "<table border=\"1\" class=\"dataframe\">\n",
        "  <thead>\n",
        "    <tr style=\"text-align: right;\">\n",
        "      <th></th>\n",
        "      <th>$P_\\mathrm{mut}=0.05$</th>\n",
        "      <th>$P_\\mathrm{mut}=0.15$</th>\n",
        "      <th>$P_\\mathrm{mut}=0.3$</th>\n",
        "    </tr>\n",
        "  </thead>\n",
        "  <tbody>\n",
        "    <tr>\n",
        "      <th>$P_\\mathrm{mut}=0.05$</th>\n",
        "      <td> False</td>\n",
        "      <td> False</td>\n",
        "      <td> False</td>\n",
        "    </tr>\n",
        "    <tr>\n",
        "      <th>$P_\\mathrm{mut}=0.15$</th>\n",
        "      <td> False</td>\n",
        "      <td> False</td>\n",
        "      <td> False</td>\n",
        "    </tr>\n",
        "    <tr>\n",
        "      <th>$P_\\mathrm{mut}=0.3$</th>\n",
        "      <td> False</td>\n",
        "      <td> False</td>\n",
        "      <td> False</td>\n",
        "    </tr>\n",
        "  </tbody>\n",
        "</table>\n",
        "</div>"
       ],
       "metadata": {},
       "output_type": "pyout",
       "prompt_number": 78,
       "text": [
        "                      $P_\\mathrm{mut}=0.05$ $P_\\mathrm{mut}=0.15$  \\\n",
        "$P_\\mathrm{mut}=0.05$                 False                 False   \n",
        "$P_\\mathrm{mut}=0.15$                 False                 False   \n",
        "$P_\\mathrm{mut}=0.3$                  False                 False   \n",
        "\n",
        "                      $P_\\mathrm{mut}=0.3$  \n",
        "$P_\\mathrm{mut}=0.05$                False  \n",
        "$P_\\mathrm{mut}=0.15$                False  \n",
        "$P_\\mathrm{mut}=0.3$                 False  "
       ]
      }
     ],
     "prompt_number": 78
    },
    {
     "cell_type": "markdown",
     "metadata": {
      "internals": {
       "frag_helper": "fragment_end",
       "frag_number": 161,
       "slide_type": "subslide"
      },
      "slideshow": {
       "slide_type": "slide"
      }
     },
     "source": [
      "# Final remarks\n",
      "\n"
     ]
    },
    {
     "cell_type": "markdown",
     "metadata": {
      "internals": {
       "frag_helper": "fragment_end",
       "frag_number": 161,
       "slide_helper": "subslide_end"
      },
      "slide_helper": "slide_end",
      "slideshow": {
       "slide_type": "-"
      }
     },
     "source": [
      "In this class/notebook we have seen some key elements:\n",
      "1. The Pareto dominance relation in action.\n",
      "2. The NSGA-II algorithm.\n",
      "3. Some of the existing MOP benchmarks. \n",
      "4. How to perform experiments and draw statistically valid conclusions from them.\n",
      "\n",
      "Bear in mind that:\n",
      "* When working in EMO topics problems like those of the CEC'09 or WFG toolkits are usually involved.\n",
      "* The experimental setup presented here can be used with little modifications to single-objective optimization and even to other machine learning or stochastic algorithms."
     ]
    }
   ],
   "metadata": {}
  }
 ]
}